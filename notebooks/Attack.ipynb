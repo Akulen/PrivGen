{
 "cells": [
  {
   "cell_type": "code",
   "execution_count": 58,
   "id": "2b75b628",
   "metadata": {},
   "outputs": [],
   "source": [
    "import pandas as pd\n",
    "\n",
    "duolingo = True\n",
    "\n",
    "if duolingo:\n",
    "    df = pd.read_csv('data/duolingo/data.csv')\n",
    "else:\n",
    "    df = pd.read_csv('data/assistments2009.csv')\n",
    "N_SKILLS = df['skill'].max()+1"
   ]
  },
  {
   "cell_type": "code",
   "execution_count": 59,
   "id": "18c36af0",
   "metadata": {},
   "outputs": [],
   "source": [
    "n = df['user'].nunique()\n",
    "prop_train = 0.5\n",
    "n_train = int(n * prop_train)"
   ]
  },
  {
   "cell_type": "code",
   "execution_count": 60,
   "id": "73acaee3",
   "metadata": {},
   "outputs": [
    {
     "data": {
      "text/plain": [
       "606"
      ]
     },
     "execution_count": 60,
     "metadata": {},
     "output_type": "execute_result"
    }
   ],
   "source": [
    "n_train"
   ]
  },
  {
   "cell_type": "code",
   "execution_count": 61,
   "id": "62f56a1b",
   "metadata": {},
   "outputs": [
    {
     "data": {
      "text/plain": [
       "array([3169, 2446, 2974, 2667, 2573, 2632, 3464, 3064, 2456, 3534])"
      ]
     },
     "execution_count": 61,
     "metadata": {},
     "output_type": "execute_result"
    }
   ],
   "source": [
    "import numpy as np\n",
    "\n",
    "np.random.seed(42)\n",
    "user_train = np.random.choice(df['user'].unique(), size=n_train, replace=False)\n",
    "user_train[:10]"
   ]
  },
  {
   "cell_type": "code",
   "execution_count": 62,
   "id": "ff63f810",
   "metadata": {},
   "outputs": [
    {
     "data": {
      "text/plain": [
       "(        user  skill  correct  wins  fails\n",
       " 0       3112    153        1     0      0\n",
       " 1       3112   1153        1     0      0\n",
       " 2       3112    145        1     0      0\n",
       " 3       3112   2132        1     0      0\n",
       " 4       3112   2251        1     0      0\n",
       " ...      ...    ...      ...   ...    ...\n",
       " 590412  2770   2250        1     1     11\n",
       " 590413  2770   1002        1     1      1\n",
       " 590414  2770    194        1     1     10\n",
       " 590415  2770   1277        1     0      4\n",
       " 590416  2770   1700        1     0      1\n",
       " \n",
       " [590417 rows x 5 columns],\n",
       " 606)"
      ]
     },
     "execution_count": 62,
     "metadata": {},
     "output_type": "execute_result"
    }
   ],
   "source": [
    "df_train = df[df['user'].isin(user_train)]\n",
    "if duolingo:\n",
    "    df_train = pd.read_csv('data/duolingo_train/data.csv')\n",
    "else:\n",
    "    df_train = pd.read_csv('data/assistments2009train.csv')\n",
    "user_train = df_train['user'].unique()\n",
    "df_train, df_train['user'].nunique()"
   ]
  },
  {
   "cell_type": "code",
   "execution_count": 63,
   "id": "7958d2b0",
   "metadata": {},
   "outputs": [
    {
     "data": {
      "text/plain": [
       "[2418,\n",
       " 2419,\n",
       " 2420,\n",
       " 2422,\n",
       " 2423,\n",
       " 2424,\n",
       " 2430,\n",
       " 2432,\n",
       " 2434,\n",
       " 2437,\n",
       " 2441,\n",
       " 2442,\n",
       " 2444,\n",
       " 2445,\n",
       " 2446,\n",
       " 2448,\n",
       " 2449,\n",
       " 2450,\n",
       " 2451,\n",
       " 2453,\n",
       " 2455,\n",
       " 2456,\n",
       " 2458,\n",
       " 2459,\n",
       " 2461,\n",
       " 2462,\n",
       " 2464,\n",
       " 2465,\n",
       " 2467,\n",
       " 2468,\n",
       " 2469,\n",
       " 2472,\n",
       " 2473,\n",
       " 2474,\n",
       " 2476,\n",
       " 2477,\n",
       " 2478,\n",
       " 2479,\n",
       " 2481,\n",
       " 2485,\n",
       " 2486,\n",
       " 2488,\n",
       " 2489,\n",
       " 2490,\n",
       " 2494,\n",
       " 2495,\n",
       " 2496,\n",
       " 2499,\n",
       " 2500,\n",
       " 2501,\n",
       " 2502,\n",
       " 2505,\n",
       " 2507,\n",
       " 2510,\n",
       " 2512,\n",
       " 2514,\n",
       " 2516,\n",
       " 2518,\n",
       " 2519,\n",
       " 2523,\n",
       " 2528,\n",
       " 2534,\n",
       " 2538,\n",
       " 2540,\n",
       " 2549,\n",
       " 2553,\n",
       " 2555,\n",
       " 2557,\n",
       " 2559,\n",
       " 2562,\n",
       " 2565,\n",
       " 2568,\n",
       " 2569,\n",
       " 2571,\n",
       " 2572,\n",
       " 2573,\n",
       " 2574,\n",
       " 2576,\n",
       " 2577,\n",
       " 2579,\n",
       " 2580,\n",
       " 2581,\n",
       " 2585,\n",
       " 2586,\n",
       " 2587,\n",
       " 2589,\n",
       " 2592,\n",
       " 2595,\n",
       " 2596,\n",
       " 2599,\n",
       " 2600,\n",
       " 2601,\n",
       " 2603,\n",
       " 2604,\n",
       " 2605,\n",
       " 2607,\n",
       " 2608,\n",
       " 2610,\n",
       " 2611,\n",
       " 2613,\n",
       " 2614,\n",
       " 2617,\n",
       " 2618,\n",
       " 2619,\n",
       " 2620,\n",
       " 2623,\n",
       " 2624,\n",
       " 2629,\n",
       " 2632,\n",
       " 2633,\n",
       " 2634,\n",
       " 2636,\n",
       " 2637,\n",
       " 2640,\n",
       " 2641,\n",
       " 2643,\n",
       " 2652,\n",
       " 2655,\n",
       " 2656,\n",
       " 2661,\n",
       " 2665,\n",
       " 2666,\n",
       " 2667,\n",
       " 2668,\n",
       " 2670,\n",
       " 2675,\n",
       " 2678,\n",
       " 2679,\n",
       " 2681,\n",
       " 2683,\n",
       " 2685,\n",
       " 2687,\n",
       " 2688,\n",
       " 2689,\n",
       " 2690,\n",
       " 2691,\n",
       " 2693,\n",
       " 2697,\n",
       " 2699,\n",
       " 2701,\n",
       " 2702,\n",
       " 2705,\n",
       " 2706,\n",
       " 2707,\n",
       " 2712,\n",
       " 2713,\n",
       " 2714,\n",
       " 2715,\n",
       " 2718,\n",
       " 2719,\n",
       " 2720,\n",
       " 2723,\n",
       " 2724,\n",
       " 2725,\n",
       " 2727,\n",
       " 2728,\n",
       " 2729,\n",
       " 2731,\n",
       " 2740,\n",
       " 2742,\n",
       " 2743,\n",
       " 2746,\n",
       " 2747,\n",
       " 2748,\n",
       " 2750,\n",
       " 2751,\n",
       " 2754,\n",
       " 2756,\n",
       " 2758,\n",
       " 2759,\n",
       " 2760,\n",
       " 2763,\n",
       " 2764,\n",
       " 2768,\n",
       " 2769,\n",
       " 2770,\n",
       " 2771,\n",
       " 2775,\n",
       " 2776,\n",
       " 2780,\n",
       " 2788,\n",
       " 2789,\n",
       " 2790,\n",
       " 2791,\n",
       " 2793,\n",
       " 2795,\n",
       " 2796,\n",
       " 2798,\n",
       " 2800,\n",
       " 2801,\n",
       " 2802,\n",
       " 2803,\n",
       " 2804,\n",
       " 2810,\n",
       " 2813,\n",
       " 2817,\n",
       " 2818,\n",
       " 2820,\n",
       " 2823,\n",
       " 2824,\n",
       " 2825,\n",
       " 2826,\n",
       " 2827,\n",
       " 2829,\n",
       " 2832,\n",
       " 2835,\n",
       " 2837,\n",
       " 2842,\n",
       " 2843,\n",
       " 2844,\n",
       " 2850,\n",
       " 2851,\n",
       " 2852,\n",
       " 2853,\n",
       " 2855,\n",
       " 2858,\n",
       " 2859,\n",
       " 2862,\n",
       " 2865,\n",
       " 2867,\n",
       " 2876,\n",
       " 2877,\n",
       " 2878,\n",
       " 2880,\n",
       " 2881,\n",
       " 2883,\n",
       " 2887,\n",
       " 2888,\n",
       " 2891,\n",
       " 2892,\n",
       " 2893,\n",
       " 2899,\n",
       " 2901,\n",
       " 2904,\n",
       " 2905,\n",
       " 2906,\n",
       " 2909,\n",
       " 2910,\n",
       " 2911,\n",
       " 2912,\n",
       " 2915,\n",
       " 2916,\n",
       " 2917,\n",
       " 2918,\n",
       " 2919,\n",
       " 2924,\n",
       " 2925,\n",
       " 2926,\n",
       " 2927,\n",
       " 2928,\n",
       " 2929,\n",
       " 2933,\n",
       " 2934,\n",
       " 2937,\n",
       " 2938,\n",
       " 2940,\n",
       " 2942,\n",
       " 2945,\n",
       " 2946,\n",
       " 2948,\n",
       " 2954,\n",
       " 2955,\n",
       " 2956,\n",
       " 2957,\n",
       " 2958,\n",
       " 2959,\n",
       " 2961,\n",
       " 2962,\n",
       " 2963,\n",
       " 2964,\n",
       " 2967,\n",
       " 2969,\n",
       " 2970,\n",
       " 2972,\n",
       " 2974,\n",
       " 2979,\n",
       " 2980,\n",
       " 2981,\n",
       " 2983,\n",
       " 2984,\n",
       " 2987,\n",
       " 2988,\n",
       " 2989,\n",
       " 2990,\n",
       " 2991,\n",
       " 2992,\n",
       " 2994,\n",
       " 2996,\n",
       " 2999,\n",
       " 3001,\n",
       " 3002,\n",
       " 3004,\n",
       " 3005,\n",
       " 3006,\n",
       " 3010,\n",
       " 3011,\n",
       " 3012,\n",
       " 3014,\n",
       " 3017,\n",
       " 3018,\n",
       " 3019,\n",
       " 3020,\n",
       " 3021,\n",
       " 3022,\n",
       " 3024,\n",
       " 3026,\n",
       " 3027,\n",
       " 3028,\n",
       " 3030,\n",
       " 3032,\n",
       " 3033,\n",
       " 3037,\n",
       " 3041,\n",
       " 3043,\n",
       " 3045,\n",
       " 3046,\n",
       " 3050,\n",
       " 3051,\n",
       " 3055,\n",
       " 3056,\n",
       " 3058,\n",
       " 3059,\n",
       " 3060,\n",
       " 3063,\n",
       " 3064,\n",
       " 3066,\n",
       " 3070,\n",
       " 3071,\n",
       " 3074,\n",
       " 3075,\n",
       " 3076,\n",
       " 3077,\n",
       " 3079,\n",
       " 3086,\n",
       " 3089,\n",
       " 3090,\n",
       " 3091,\n",
       " 3094,\n",
       " 3095,\n",
       " 3101,\n",
       " 3104,\n",
       " 3107,\n",
       " 3108,\n",
       " 3111,\n",
       " 3112,\n",
       " 3113,\n",
       " 3115,\n",
       " 3117,\n",
       " 3119,\n",
       " 3121,\n",
       " 3122,\n",
       " 3123,\n",
       " 3124,\n",
       " 3127,\n",
       " 3128,\n",
       " 3130,\n",
       " 3131,\n",
       " 3133,\n",
       " 3134,\n",
       " 3135,\n",
       " 3136,\n",
       " 3137,\n",
       " 3144,\n",
       " 3146,\n",
       " 3148,\n",
       " 3149,\n",
       " 3152,\n",
       " 3153,\n",
       " 3157,\n",
       " 3160,\n",
       " 3161,\n",
       " 3163,\n",
       " 3164,\n",
       " 3165,\n",
       " 3169,\n",
       " 3170,\n",
       " 3171,\n",
       " 3172,\n",
       " 3174,\n",
       " 3176,\n",
       " 3177,\n",
       " 3180,\n",
       " 3183,\n",
       " 3185,\n",
       " 3186,\n",
       " 3188,\n",
       " 3189,\n",
       " 3192,\n",
       " 3193,\n",
       " 3194,\n",
       " 3197,\n",
       " 3202,\n",
       " 3205,\n",
       " 3206,\n",
       " 3210,\n",
       " 3215,\n",
       " 3217,\n",
       " 3218,\n",
       " 3219,\n",
       " 3223,\n",
       " 3224,\n",
       " 3225,\n",
       " 3226,\n",
       " 3227,\n",
       " 3230,\n",
       " 3231,\n",
       " 3234,\n",
       " 3235,\n",
       " 3238,\n",
       " 3241,\n",
       " 3243,\n",
       " 3247,\n",
       " 3249,\n",
       " 3253,\n",
       " 3255,\n",
       " 3258,\n",
       " 3259,\n",
       " 3260,\n",
       " 3261,\n",
       " 3262,\n",
       " 3265,\n",
       " 3266,\n",
       " 3267,\n",
       " 3269,\n",
       " 3270,\n",
       " 3275,\n",
       " 3277,\n",
       " 3279,\n",
       " 3280,\n",
       " 3283,\n",
       " 3285,\n",
       " 3286,\n",
       " 3287,\n",
       " 3289,\n",
       " 3290,\n",
       " 3291,\n",
       " 3292,\n",
       " 3293,\n",
       " 3295,\n",
       " 3296,\n",
       " 3297,\n",
       " 3298,\n",
       " 3302,\n",
       " 3307,\n",
       " 3309,\n",
       " 3310,\n",
       " 3311,\n",
       " 3313,\n",
       " 3316,\n",
       " 3318,\n",
       " 3322,\n",
       " 3323,\n",
       " 3327,\n",
       " 3329,\n",
       " 3331,\n",
       " 3334,\n",
       " 3335,\n",
       " 3341,\n",
       " 3342,\n",
       " 3344,\n",
       " 3346,\n",
       " 3349,\n",
       " 3350,\n",
       " 3351,\n",
       " 3353,\n",
       " 3354,\n",
       " 3356,\n",
       " 3358,\n",
       " 3359,\n",
       " 3361,\n",
       " 3362,\n",
       " 3363,\n",
       " 3364,\n",
       " 3366,\n",
       " 3367,\n",
       " 3368,\n",
       " 3369,\n",
       " 3373,\n",
       " 3375,\n",
       " 3376,\n",
       " 3377,\n",
       " 3378,\n",
       " 3381,\n",
       " 3382,\n",
       " 3385,\n",
       " 3386,\n",
       " 3387,\n",
       " 3388,\n",
       " 3390,\n",
       " 3393,\n",
       " 3398,\n",
       " 3399,\n",
       " 3401,\n",
       " 3402,\n",
       " 3403,\n",
       " 3404,\n",
       " 3405,\n",
       " 3411,\n",
       " 3412,\n",
       " 3414,\n",
       " 3416,\n",
       " 3417,\n",
       " 3418,\n",
       " 3421,\n",
       " 3423,\n",
       " 3424,\n",
       " 3427,\n",
       " 3429,\n",
       " 3431,\n",
       " 3432,\n",
       " 3433,\n",
       " 3434,\n",
       " 3435,\n",
       " 3437,\n",
       " 3438,\n",
       " 3439,\n",
       " 3443,\n",
       " 3448,\n",
       " 3450,\n",
       " 3452,\n",
       " 3460,\n",
       " 3462,\n",
       " 3464,\n",
       " 3469,\n",
       " 3472,\n",
       " 3473,\n",
       " 3474,\n",
       " 3475,\n",
       " 3476,\n",
       " 3478,\n",
       " 3481,\n",
       " 3484,\n",
       " 3485,\n",
       " 3486,\n",
       " 3487,\n",
       " 3488,\n",
       " 3489,\n",
       " 3490,\n",
       " 3492,\n",
       " 3495,\n",
       " 3496,\n",
       " 3497,\n",
       " 3499,\n",
       " 3500,\n",
       " 3501,\n",
       " 3502,\n",
       " 3504,\n",
       " 3506,\n",
       " 3507,\n",
       " 3508,\n",
       " 3509,\n",
       " 3511,\n",
       " 3512,\n",
       " 3513,\n",
       " 3516,\n",
       " 3519,\n",
       " 3520,\n",
       " 3521,\n",
       " 3523,\n",
       " 3524,\n",
       " 3525,\n",
       " 3527,\n",
       " 3530,\n",
       " 3532,\n",
       " 3533,\n",
       " 3534,\n",
       " 3538,\n",
       " 3539,\n",
       " 3540,\n",
       " 3544,\n",
       " 3550,\n",
       " 3551,\n",
       " 3554,\n",
       " 3555,\n",
       " 3557,\n",
       " 3559,\n",
       " 3560,\n",
       " 3563,\n",
       " 3565,\n",
       " 3566,\n",
       " 3572,\n",
       " 3574,\n",
       " 3575,\n",
       " 3577,\n",
       " 3579,\n",
       " 3583,\n",
       " 3585,\n",
       " 3588,\n",
       " 3589,\n",
       " 3590,\n",
       " 3593,\n",
       " 3595,\n",
       " 3596,\n",
       " 3597,\n",
       " 3600,\n",
       " 3601,\n",
       " 3602,\n",
       " 3610,\n",
       " 3613,\n",
       " 3614,\n",
       " 3616,\n",
       " 3618,\n",
       " 3619,\n",
       " 3620,\n",
       " 3624,\n",
       " 3627]"
      ]
     },
     "execution_count": 63,
     "metadata": {},
     "output_type": "execute_result"
    }
   ],
   "source": [
    "train_users = sorted(df_train['user'].unique())\n",
    "train_users"
   ]
  },
  {
   "cell_type": "code",
   "execution_count": 64,
   "id": "a98ae79c",
   "metadata": {},
   "outputs": [],
   "source": [
    "def anonymize(df, p=0.1):\n",
    "    df_anon = df.sample(frac=1-p, random_state=42).sort_index().reset_index(drop=True)\n",
    "    return df_anon"
   ]
  },
  {
   "cell_type": "code",
   "execution_count": 65,
   "id": "4d7b3e23",
   "metadata": {
    "scrolled": true
   },
   "outputs": [
    {
     "data": {
      "text/plain": [
       "([(145, 1),\n",
       "  (2132, 1),\n",
       "  (1959, 1),\n",
       "  (145, 1),\n",
       "  (2132, 1),\n",
       "  (1941, 1),\n",
       "  (145, 1),\n",
       "  (1412, 1),\n",
       "  (136, 1),\n",
       "  (1040, 1)],\n",
       " [(151, 1),\n",
       "  (1084, 1),\n",
       "  (153, 0),\n",
       "  (1153, 1),\n",
       "  (145, 1),\n",
       "  (2132, 1),\n",
       "  (1959, 1),\n",
       "  (145, 0),\n",
       "  (2132, 0),\n",
       "  (1941, 1)])"
      ]
     },
     "execution_count": 65,
     "metadata": {},
     "output_type": "execute_result"
    }
   ],
   "source": [
    "def df_to_seq(df):\n",
    "    return {\n",
    "        user_id: [tuple(x) for x in user[['skill', 'correct']].to_numpy()]\n",
    "        #[tuple(x) for x in user[['item_id', 'skill_id', 'correct']].to_numpy()]\n",
    "        for user_id, user in df.groupby('user')\n",
    "    }\n",
    "seq = df_to_seq(df)\n",
    "seq[list(seq.keys())[0]][:10], seq[list(seq.keys())[1]][:10]"
   ]
  },
  {
   "cell_type": "code",
   "execution_count": 66,
   "id": "71b8a390",
   "metadata": {},
   "outputs": [],
   "source": [
    "def combine(df, spread=1.0):\n",
    "    data = []\n",
    "    seq = df_to_seq(df)\n",
    "    lengths = {}\n",
    "    for s in seq.values():\n",
    "        l = len(s)\n",
    "        if l not in lengths:\n",
    "            lengths[l] = 0\n",
    "        lengths[l] += 1\n",
    "    L = sum(lengths.values())\n",
    "    for l in lengths.keys():\n",
    "        lengths[l] /= L\n",
    "    users = list(seq.keys())\n",
    "    up = np.array([len(seq[user]) for user in users])\n",
    "    up = up / up.sum()\n",
    "    for user in range(len(seq)):\n",
    "        l = np.random.choice(list(lengths.keys()), 1, p=list(lengths.values()))[0]\n",
    "        seeds, seeds_l = [], []\n",
    "        cur_l = 0\n",
    "        while cur_l < l:\n",
    "            seed = np.random.choice(users, 1, p=up)[0]\n",
    "            ls = list(range(1, len(seq[seed])+1))\n",
    "            pl = np.array([1 / l ** spread for l in ls])\n",
    "            coef = np.sum(pl)\n",
    "            pl /= coef\n",
    "            seed_l = np.random.choice(ls, 1, p=pl)[0]\n",
    "            seeds.append(seed)\n",
    "            seeds_l.append(seed_l)\n",
    "            cur_l += seed_l\n",
    "        # should be a uniformly random partition of l of size len(seeds),\n",
    "        # with max constraints varying per element\n",
    "        seeds_l[-1] += (l - cur_l)\n",
    "        for i in range(len(seeds)):\n",
    "            seed, seed_l = seeds[i], seeds_l[i]\n",
    "            start = np.random.choice(len(seq[seed]) - seed_l + 1, 1)[0]\n",
    "            for j in range(seed_l):\n",
    "                data.append([user, *seq[seed][start+j]])\n",
    "    df_comb = pd.DataFrame(data=data, columns=['user', 'skill', 'correct'])\n",
    "    return df_comb"
   ]
  },
  {
   "cell_type": "code",
   "execution_count": 67,
   "id": "72703451",
   "metadata": {
    "scrolled": true
   },
   "outputs": [
    {
     "name": "stdout",
     "output_type": "stream",
     "text": [
      "CPU times: user 2.25 s, sys: 28.1 ms, total: 2.28 s\n",
      "Wall time: 2.28 s\n"
     ]
    },
    {
     "data": {
      "text/html": [
       "<div>\n",
       "<style scoped>\n",
       "    .dataframe tbody tr th:only-of-type {\n",
       "        vertical-align: middle;\n",
       "    }\n",
       "\n",
       "    .dataframe tbody tr th {\n",
       "        vertical-align: top;\n",
       "    }\n",
       "\n",
       "    .dataframe thead th {\n",
       "        text-align: right;\n",
       "    }\n",
       "</style>\n",
       "<table border=\"1\" class=\"dataframe\">\n",
       "  <thead>\n",
       "    <tr style=\"text-align: right;\">\n",
       "      <th></th>\n",
       "      <th>user</th>\n",
       "      <th>skill</th>\n",
       "      <th>correct</th>\n",
       "    </tr>\n",
       "  </thead>\n",
       "  <tbody>\n",
       "    <tr>\n",
       "      <th>0</th>\n",
       "      <td>0</td>\n",
       "      <td>297</td>\n",
       "      <td>1</td>\n",
       "    </tr>\n",
       "    <tr>\n",
       "      <th>1</th>\n",
       "      <td>0</td>\n",
       "      <td>1364</td>\n",
       "      <td>1</td>\n",
       "    </tr>\n",
       "    <tr>\n",
       "      <th>2</th>\n",
       "      <td>0</td>\n",
       "      <td>156</td>\n",
       "      <td>1</td>\n",
       "    </tr>\n",
       "    <tr>\n",
       "      <th>3</th>\n",
       "      <td>0</td>\n",
       "      <td>1365</td>\n",
       "      <td>1</td>\n",
       "    </tr>\n",
       "    <tr>\n",
       "      <th>4</th>\n",
       "      <td>0</td>\n",
       "      <td>153</td>\n",
       "      <td>0</td>\n",
       "    </tr>\n",
       "    <tr>\n",
       "      <th>...</th>\n",
       "      <td>...</td>\n",
       "      <td>...</td>\n",
       "      <td>...</td>\n",
       "    </tr>\n",
       "    <tr>\n",
       "      <th>613740</th>\n",
       "      <td>605</td>\n",
       "      <td>107</td>\n",
       "      <td>0</td>\n",
       "    </tr>\n",
       "    <tr>\n",
       "      <th>613741</th>\n",
       "      <td>605</td>\n",
       "      <td>1424</td>\n",
       "      <td>1</td>\n",
       "    </tr>\n",
       "    <tr>\n",
       "      <th>613742</th>\n",
       "      <td>605</td>\n",
       "      <td>136</td>\n",
       "      <td>1</td>\n",
       "    </tr>\n",
       "    <tr>\n",
       "      <th>613743</th>\n",
       "      <td>605</td>\n",
       "      <td>1424</td>\n",
       "      <td>1</td>\n",
       "    </tr>\n",
       "    <tr>\n",
       "      <th>613744</th>\n",
       "      <td>605</td>\n",
       "      <td>136</td>\n",
       "      <td>0</td>\n",
       "    </tr>\n",
       "  </tbody>\n",
       "</table>\n",
       "<p>613745 rows × 3 columns</p>\n",
       "</div>"
      ],
      "text/plain": [
       "        user  skill  correct\n",
       "0          0    297        1\n",
       "1          0   1364        1\n",
       "2          0    156        1\n",
       "3          0   1365        1\n",
       "4          0    153        0\n",
       "...      ...    ...      ...\n",
       "613740   605    107        0\n",
       "613741   605   1424        1\n",
       "613742   605    136        1\n",
       "613743   605   1424        1\n",
       "613744   605    136        0\n",
       "\n",
       "[613745 rows x 3 columns]"
      ]
     },
     "execution_count": 67,
     "metadata": {},
     "output_type": "execute_result"
    }
   ],
   "source": [
    "%%time\n",
    "\n",
    "df_comb = combine(df_train, spread=-10.0)\n",
    "df_comb"
   ]
  },
  {
   "cell_type": "code",
   "execution_count": 68,
   "id": "cedfd060",
   "metadata": {},
   "outputs": [
    {
     "data": {
      "text/html": [
       "<div>\n",
       "<style scoped>\n",
       "    .dataframe tbody tr th:only-of-type {\n",
       "        vertical-align: middle;\n",
       "    }\n",
       "\n",
       "    .dataframe tbody tr th {\n",
       "        vertical-align: top;\n",
       "    }\n",
       "\n",
       "    .dataframe thead th {\n",
       "        text-align: right;\n",
       "    }\n",
       "</style>\n",
       "<table border=\"1\" class=\"dataframe\">\n",
       "  <thead>\n",
       "    <tr style=\"text-align: right;\">\n",
       "      <th></th>\n",
       "      <th>user</th>\n",
       "      <th>skill</th>\n",
       "      <th>correct</th>\n",
       "      <th>wins</th>\n",
       "      <th>fails</th>\n",
       "    </tr>\n",
       "  </thead>\n",
       "  <tbody>\n",
       "  </tbody>\n",
       "</table>\n",
       "</div>"
      ],
      "text/plain": [
       "Empty DataFrame\n",
       "Columns: [user, skill, correct, wins, fails]\n",
       "Index: []"
      ]
     },
     "execution_count": 68,
     "metadata": {},
     "output_type": "execute_result"
    }
   ],
   "source": [
    "df_train.query('user == 10')"
   ]
  },
  {
   "cell_type": "code",
   "execution_count": 69,
   "id": "c08f04da",
   "metadata": {
    "scrolled": true
   },
   "outputs": [
    {
     "data": {
      "text/html": [
       "<div>\n",
       "<style scoped>\n",
       "    .dataframe tbody tr th:only-of-type {\n",
       "        vertical-align: middle;\n",
       "    }\n",
       "\n",
       "    .dataframe tbody tr th {\n",
       "        vertical-align: top;\n",
       "    }\n",
       "\n",
       "    .dataframe thead th {\n",
       "        text-align: right;\n",
       "    }\n",
       "</style>\n",
       "<table border=\"1\" class=\"dataframe\">\n",
       "  <thead>\n",
       "    <tr style=\"text-align: right;\">\n",
       "      <th></th>\n",
       "      <th>user</th>\n",
       "      <th>skill</th>\n",
       "      <th>correct</th>\n",
       "      <th>wins</th>\n",
       "      <th>fails</th>\n",
       "    </tr>\n",
       "  </thead>\n",
       "  <tbody>\n",
       "    <tr>\n",
       "      <th>0</th>\n",
       "      <td>3112</td>\n",
       "      <td>137</td>\n",
       "      <td>1</td>\n",
       "      <td>1</td>\n",
       "      <td>0</td>\n",
       "    </tr>\n",
       "    <tr>\n",
       "      <th>1</th>\n",
       "      <td>3112</td>\n",
       "      <td>1412</td>\n",
       "      <td>0</td>\n",
       "      <td>2</td>\n",
       "      <td>7</td>\n",
       "    </tr>\n",
       "    <tr>\n",
       "      <th>2</th>\n",
       "      <td>3112</td>\n",
       "      <td>761</td>\n",
       "      <td>0</td>\n",
       "      <td>0</td>\n",
       "      <td>0</td>\n",
       "    </tr>\n",
       "    <tr>\n",
       "      <th>3</th>\n",
       "      <td>3112</td>\n",
       "      <td>1959</td>\n",
       "      <td>1</td>\n",
       "      <td>0</td>\n",
       "      <td>4</td>\n",
       "    </tr>\n",
       "    <tr>\n",
       "      <th>4</th>\n",
       "      <td>3112</td>\n",
       "      <td>153</td>\n",
       "      <td>1</td>\n",
       "      <td>3</td>\n",
       "      <td>14</td>\n",
       "    </tr>\n",
       "    <tr>\n",
       "      <th>...</th>\n",
       "      <td>...</td>\n",
       "      <td>...</td>\n",
       "      <td>...</td>\n",
       "      <td>...</td>\n",
       "      <td>...</td>\n",
       "    </tr>\n",
       "    <tr>\n",
       "      <th>5899</th>\n",
       "      <td>2928</td>\n",
       "      <td>1336</td>\n",
       "      <td>1</td>\n",
       "      <td>0</td>\n",
       "      <td>6</td>\n",
       "    </tr>\n",
       "    <tr>\n",
       "      <th>5900</th>\n",
       "      <td>2911</td>\n",
       "      <td>0</td>\n",
       "      <td>0</td>\n",
       "      <td>1</td>\n",
       "      <td>2</td>\n",
       "    </tr>\n",
       "    <tr>\n",
       "      <th>5901</th>\n",
       "      <td>2911</td>\n",
       "      <td>1391</td>\n",
       "      <td>1</td>\n",
       "      <td>0</td>\n",
       "      <td>1</td>\n",
       "    </tr>\n",
       "    <tr>\n",
       "      <th>5902</th>\n",
       "      <td>2770</td>\n",
       "      <td>1652</td>\n",
       "      <td>1</td>\n",
       "      <td>0</td>\n",
       "      <td>0</td>\n",
       "    </tr>\n",
       "    <tr>\n",
       "      <th>5903</th>\n",
       "      <td>2770</td>\n",
       "      <td>1948</td>\n",
       "      <td>1</td>\n",
       "      <td>0</td>\n",
       "      <td>2</td>\n",
       "    </tr>\n",
       "  </tbody>\n",
       "</table>\n",
       "<p>5904 rows × 5 columns</p>\n",
       "</div>"
      ],
      "text/plain": [
       "      user  skill  correct  wins  fails\n",
       "0     3112    137        1     1      0\n",
       "1     3112   1412        0     2      7\n",
       "2     3112    761        0     0      0\n",
       "3     3112   1959        1     0      4\n",
       "4     3112    153        1     3     14\n",
       "...    ...    ...      ...   ...    ...\n",
       "5899  2928   1336        1     0      6\n",
       "5900  2911      0        0     1      2\n",
       "5901  2911   1391        1     0      1\n",
       "5902  2770   1652        1     0      0\n",
       "5903  2770   1948        1     0      2\n",
       "\n",
       "[5904 rows x 5 columns]"
      ]
     },
     "execution_count": 69,
     "metadata": {},
     "output_type": "execute_result"
    }
   ],
   "source": [
    "anonymize(df_train, p=0.99)"
   ]
  },
  {
   "cell_type": "code",
   "execution_count": 70,
   "id": "32f2faa7",
   "metadata": {},
   "outputs": [
    {
     "data": {
      "text/plain": [
       "3"
      ]
     },
     "execution_count": 70,
     "metadata": {},
     "output_type": "execute_result"
    }
   ],
   "source": [
    "def lcs(a, b):\n",
    "    if len(a) < len(b):\n",
    "        a, b = b, a\n",
    "    dp = np.zeros((2, len(b)+1), dtype=int)\n",
    "    for i in range(1, len(a)+1):\n",
    "        for j in range(1, len(b)+1):\n",
    "            if a[i-1] == b[j-1]:\n",
    "                dp[i&1][j] = 1 + dp[(i&1)^1][j-1]\n",
    "            else:\n",
    "                dp[i&1][j] = max(dp[(i&1)^1][j], dp[i&1][j-1])\n",
    "    return dp[len(a)&1,-1]\n",
    "\n",
    "lcs([(1, 2), (2, 1), (2, 0), (3, 1), (3, 0)], [(1, 2), (3, 1), (2, 0), (2, 1), (3, 0)])"
   ]
  },
  {
   "cell_type": "code",
   "execution_count": 71,
   "id": "631148a1",
   "metadata": {},
   "outputs": [],
   "source": [
    "import string\n",
    "\n",
    "ALPHABET = np.array(list(string.ascii_lowercase))\n",
    "\n",
    "def generate_guess(n):\n",
    "    return np.random.choice(ALPHABET, size=n)\n",
    "\n",
    "D = [(''.join(generate_guess(200)), ''.join(generate_guess(200))) for _ in range(100)]"
   ]
  },
  {
   "cell_type": "code",
   "execution_count": 72,
   "id": "9fbb065b",
   "metadata": {},
   "outputs": [],
   "source": [
    "# lcs(seq[0], seq[1])"
   ]
  },
  {
   "cell_type": "code",
   "execution_count": 73,
   "id": "f750c86b",
   "metadata": {},
   "outputs": [],
   "source": [
    "import struct\n",
    "\n",
    "N_SKILLS = df['skill'].max()+1\n",
    "\n",
    "def encode(s):\n",
    "    # return b''.join([struct.pack(\">H\", skill + correct * N_SKILLS) for skill, correct in s])\n",
    "    return ''.join([chr(skill + 0 * correct * N_SKILLS) for skill, correct in s])\n",
    "\n",
    "def encode_seq(seq):\n",
    "    return {user: encode(s) for user, s in seq.items()}"
   ]
  },
  {
   "cell_type": "code",
   "execution_count": 74,
   "id": "6e6d72e5",
   "metadata": {},
   "outputs": [],
   "source": [
    "# encode(seq[0])"
   ]
  },
  {
   "cell_type": "code",
   "execution_count": 75,
   "id": "7d17fda9",
   "metadata": {},
   "outputs": [],
   "source": [
    "import pylcs\n",
    "\n",
    "# pylcs.lcs(encode(seq[0]), encode(seq[1]))"
   ]
  },
  {
   "cell_type": "code",
   "execution_count": 76,
   "id": "298c37cb",
   "metadata": {},
   "outputs": [
    {
     "name": "stdout",
     "output_type": "stream",
     "text": [
      "CPU times: user 3.27 s, sys: 1.62 ms, total: 3.27 s\n",
      "Wall time: 3.27 s\n"
     ]
    }
   ],
   "source": [
    "%%time\n",
    "\n",
    "for a, b in D:\n",
    "    lcs(a, b)"
   ]
  },
  {
   "cell_type": "code",
   "execution_count": 77,
   "id": "cd315d7e",
   "metadata": {},
   "outputs": [
    {
     "name": "stdout",
     "output_type": "stream",
     "text": [
      "CPU times: user 13.3 ms, sys: 6 µs, total: 13.3 ms\n",
      "Wall time: 13.2 ms\n"
     ]
    }
   ],
   "source": [
    "%%time\n",
    "\n",
    "for a, b in D:\n",
    "    pylcs.lcs(a, b)"
   ]
  },
  {
   "cell_type": "code",
   "execution_count": 78,
   "id": "f69fd69d",
   "metadata": {},
   "outputs": [],
   "source": [
    "from joblib import Parallel, delayed\n",
    "from tqdm import tqdm\n",
    "from sklearn.metrics import roc_curve\n",
    "from math import log, log2, exp\n",
    "from scipy.special import logsumexp\n",
    "\n",
    "def geom_mean(a, b, i):\n",
    "    return (a ** (2 - i / 5) * b ** (i / 5)) ** 0.5\n",
    "\n",
    "def custom_norm(norm, a, b):\n",
    "    if False:\n",
    "        return pylcs.lcs2(s, s2) / ([\n",
    "            lambda a, b: a * b,         # product\n",
    "            lambda a, b: a,             # left\n",
    "            lambda a, b: b,             # right\n",
    "            lambda a, b: (a * b) ** .5, # geometric mean\n",
    "            lambda a, b: max(a, b),     # max\n",
    "            lambda a, b: (a + b) / 2,   # mean\n",
    "        ][norm])(a, b)\n",
    "    else:\n",
    "        return geom_mean(a, b, norm)\n",
    "\n",
    "def score_agg(s, seq, agg, norm=1):\n",
    "    return agg([\n",
    "        pylcs.lcs(s, s2) / custom_norm(norm, len(s), len(s2))\n",
    "        for s2 in seq.values()\n",
    "    ])\n",
    "\n",
    "def score_sum(s, seq, norm=1):\n",
    "    return score_agg(s, seq, agg=sum, norm=norm)\n",
    "\n",
    "def score_max(s, seq, norm=9.7):\n",
    "    return score_agg(s, seq, agg=max, norm=norm)\n",
    "\n",
    "def score_norm(s, seq, norm=1):\n",
    "    return score_agg(s, seq, agg=np.linalg.norm, norm=norm)\n",
    "\n",
    "def score_norm10(s, seq, norm=1):\n",
    "    return score_agg(s, seq, agg=lambda l: np.linalg.norm(l, ord=10), norm=norm)\n",
    "\n",
    "def score_LogSumExp(s, seq, norm=1):\n",
    "    return score_agg(s, seq, agg=logsumexp, norm=norm)\n",
    "\n",
    "def prob_agg(l):\n",
    "    return - np.sum(np.log(np.clip(1 - np.array(l), a_min=0.1, a_max=None)))\n",
    "\n",
    "def score_prob(s, seq, norm=1):\n",
    "    return score_agg(s, seq, agg=prob_agg, norm=norm)\n",
    "\n",
    "def median_agg(l):\n",
    "    l = np.array(l)\n",
    "    median = np.median(l)\n",
    "    return np.sum(l[l>=median])\n",
    "\n",
    "def score_median(s, seq, norm=1):\n",
    "    return score_agg(s, seq, agg=median_agg, norm=norm)\n",
    "\n",
    "def mean_agg(l):\n",
    "    l = np.array(l)\n",
    "    mean = np.mean(l)\n",
    "    return np.sum(l[l>=mean])\n",
    "\n",
    "def score_mean(s, seq, norm=1):\n",
    "    return score_agg(s, seq, agg=mean_agg, norm=norm)\n",
    "\n",
    "# Should take into account entropy of item and outcome as well\n",
    "def entropy(s, p):\n",
    "    return - sum(p[skill] * log2(p[skill]) for skill, correct in s)\n",
    "    # return - sum(p[2*skill + correct] * log2(p[2*skill + correct]) for skill, correct in s)\n",
    "\n",
    "def compute_skill_distrib(seq):\n",
    "    cnt = [0] * N_SKILLS\n",
    "    for s in seq.values():\n",
    "        for skill, correct in s:\n",
    "            cnt[skill] += 1\n",
    "    return np.array(cnt) / sum(cnt)\n",
    "\n",
    "def identify(seq, df_anon, score=score_max):\n",
    "    seq_anon = df_to_seq(df_anon)\n",
    "    seq_anon_enc = encode_seq(seq_anon)\n",
    "    \n",
    "    p_skill = compute_skill_distrib(seq)\n",
    "    entropy_limit = (df_train['user'].nunique() / len(seq)) * log2(len(seq) / df_train['user'].nunique())\n",
    "    print(entropy_limit)\n",
    "    \n",
    "    def foo(user, s):\n",
    "        sc = score(encode(s), seq_anon_enc)\n",
    "        return int(user in train_users), sc\n",
    "\n",
    "    if True:\n",
    "        y_true, y_score = map(list, zip(*Parallel(n_jobs=5)(\n",
    "            delayed(foo)(user, s)\n",
    "            for user, s in tqdm(\n",
    "                list(filter(lambda x: entropy(x[1], p_skill) >= entropy_limit, seq.items()))\n",
    "            )\n",
    "        )))\n",
    "    else:\n",
    "        y_true, y_score = map(list, zip(*[\n",
    "            foo(user, s) for user, s in tqdm(seq.items())\n",
    "        ]))\n",
    "    \n",
    "    # plt.hist(y_score, bins=100)\n",
    "    \n",
    "    return roc_curve(y_true, y_score)"
   ]
  },
  {
   "cell_type": "code",
   "execution_count": 96,
   "id": "287efcc7",
   "metadata": {},
   "outputs": [
    {
     "data": {
      "text/plain": [
       "90"
      ]
     },
     "execution_count": 96,
     "metadata": {},
     "output_type": "execute_result"
    }
   ],
   "source": [
    "min(len(s[1]) for s in seq.items())"
   ]
  },
  {
   "cell_type": "code",
   "execution_count": 94,
   "id": "d83c6a88",
   "metadata": {},
   "outputs": [
    {
     "data": {
      "text/plain": [
       "(284,\n",
       " 5.797087309711321,\n",
       " [(141, 1),\n",
       "  (2383, 1),\n",
       "  (194, 1),\n",
       "  (84, 0),\n",
       "  (324, 0),\n",
       "  (80, 1),\n",
       "  (2266, 0),\n",
       "  (0, 0),\n",
       "  (2240, 0),\n",
       "  (2366, 1),\n",
       "  (2261, 1),\n",
       "  (529, 1),\n",
       "  (46, 1),\n",
       "  (740, 1),\n",
       "  (2266, 0),\n",
       "  (0, 0),\n",
       "  (2240, 0),\n",
       "  (46, 1),\n",
       "  (2266, 0),\n",
       "  (0, 0),\n",
       "  (2240, 0),\n",
       "  (529, 0),\n",
       "  (49, 0),\n",
       "  (175, 1),\n",
       "  (519, 1),\n",
       "  (194, 1),\n",
       "  (1277, 1),\n",
       "  (2132, 1),\n",
       "  (981, 1),\n",
       "  (84, 0),\n",
       "  (324, 0),\n",
       "  (1452, 1),\n",
       "  (519, 1),\n",
       "  (106, 1),\n",
       "  (151, 0),\n",
       "  (2111, 1),\n",
       "  (150, 1),\n",
       "  (1218, 1),\n",
       "  (153, 1),\n",
       "  (1307, 1),\n",
       "  (156, 1),\n",
       "  (691, 1),\n",
       "  (145, 1),\n",
       "  (1412, 1),\n",
       "  (873, 1),\n",
       "  (506, 1),\n",
       "  (53, 1),\n",
       "  (1040, 1),\n",
       "  (2250, 1),\n",
       "  (688, 1),\n",
       "  (153, 1),\n",
       "  (1997, 1),\n",
       "  (1040, 1),\n",
       "  (1959, 1),\n",
       "  (156, 1),\n",
       "  (2354, 1),\n",
       "  (156, 1),\n",
       "  (1306, 1),\n",
       "  (153, 1),\n",
       "  (787, 1),\n",
       "  (153, 1),\n",
       "  (688, 1),\n",
       "  (1040, 1),\n",
       "  (1179, 0),\n",
       "  (145, 1),\n",
       "  (2001, 1),\n",
       "  (194, 1),\n",
       "  (1277, 1),\n",
       "  (2001, 1),\n",
       "  (194, 1),\n",
       "  (1564, 1),\n",
       "  (1779, 1),\n",
       "  (145, 1),\n",
       "  (2132, 1),\n",
       "  (1692, 1),\n",
       "  (620, 1),\n",
       "  (1277, 1),\n",
       "  (2132, 1),\n",
       "  (2251, 0),\n",
       "  (1002, 1),\n",
       "  (80, 1),\n",
       "  (141, 1),\n",
       "  (362, 1),\n",
       "  (1327, 1),\n",
       "  (152, 1),\n",
       "  (77, 1),\n",
       "  (244, 1),\n",
       "  (233, 1),\n",
       "  (1772, 0),\n",
       "  (1041, 0),\n",
       "  (740, 1),\n",
       "  (184, 1),\n",
       "  (1277, 1),\n",
       "  (2132, 1),\n",
       "  (982, 1),\n",
       "  (49, 1),\n",
       "  (145, 1),\n",
       "  (2132, 1),\n",
       "  (981, 0),\n",
       "  (194, 1),\n",
       "  (1452, 1),\n",
       "  (519, 0),\n",
       "  (106, 1),\n",
       "  (253, 1),\n",
       "  (1228, 1),\n",
       "  (2342, 1),\n",
       "  (1726, 1),\n",
       "  (31, 1),\n",
       "  (1938, 1),\n",
       "  (1041, 1),\n",
       "  (2372, 1),\n",
       "  (861, 1),\n",
       "  (2365, 1),\n",
       "  (861, 1),\n",
       "  (256, 1),\n",
       "  (2372, 1),\n",
       "  (861, 1)])"
      ]
     },
     "execution_count": 94,
     "metadata": {},
     "output_type": "execute_result"
    }
   ],
   "source": [
    "p_skill = compute_skill_distrib(seq)\n",
    "users_tmp = list(seq.keys())\n",
    "ent = [entropy(seq[user], p_skill) for user in users_tmp]\n",
    "np.argmin(ent), ent[np.argmin(ent)], seq[users_tmp[np.argmin(ent)]]"
   ]
  },
  {
   "cell_type": "code",
   "execution_count": 22,
   "id": "6b8efde4",
   "metadata": {},
   "outputs": [],
   "source": [
    "# df_anon = anonymize(df_train, p=0.75)\n",
    "score_roc_data = {}"
   ]
  },
  {
   "cell_type": "code",
   "execution_count": 245,
   "id": "dd4a0812",
   "metadata": {},
   "outputs": [
    {
     "name": "stdout",
     "output_type": "stream",
     "text": [
      "score_sum\n",
      "0.5000531493815908\n"
     ]
    },
    {
     "name": "stderr",
     "output_type": "stream",
     "text": [
      "100%|███████████████████████████████████████████████████████████████████████████████████████████████████████████████████████████████████████████████████████████████████████| 3524/3524 [00:40<00:00, 87.59it/s]\n"
     ]
    },
    {
     "name": "stdout",
     "output_type": "stream",
     "text": [
      "0.5000531493815908\n"
     ]
    },
    {
     "name": "stderr",
     "output_type": "stream",
     "text": [
      "100%|███████████████████████████████████████████████████████████████████████████████████████████████████████████████████████████████████████████████████████████████████████| 3524/3524 [00:38<00:00, 91.10it/s]\n"
     ]
    },
    {
     "name": "stdout",
     "output_type": "stream",
     "text": [
      "0.5000531493815908\n"
     ]
    },
    {
     "name": "stderr",
     "output_type": "stream",
     "text": [
      "100%|███████████████████████████████████████████████████████████████████████████████████████████████████████████████████████████████████████████████████████████████████████| 3524/3524 [00:42<00:00, 83.48it/s]\n"
     ]
    },
    {
     "name": "stdout",
     "output_type": "stream",
     "text": [
      "0.5000531493815908\n"
     ]
    },
    {
     "name": "stderr",
     "output_type": "stream",
     "text": [
      "100%|███████████████████████████████████████████████████████████████████████████████████████████████████████████████████████████████████████████████████████████████████████| 3524/3524 [00:43<00:00, 81.17it/s]\n"
     ]
    },
    {
     "name": "stdout",
     "output_type": "stream",
     "text": [
      "0.5000531493815908\n"
     ]
    },
    {
     "name": "stderr",
     "output_type": "stream",
     "text": [
      "100%|███████████████████████████████████████████████████████████████████████████████████████████████████████████████████████████████████████████████████████████████████████| 3524/3524 [00:39<00:00, 88.78it/s]\n"
     ]
    },
    {
     "name": "stdout",
     "output_type": "stream",
     "text": [
      "0.5000531493815908\n"
     ]
    },
    {
     "name": "stderr",
     "output_type": "stream",
     "text": [
      "100%|███████████████████████████████████████████████████████████████████████████████████████████████████████████████████████████████████████████████████████████████████████| 3524/3524 [00:39<00:00, 88.55it/s]\n"
     ]
    },
    {
     "name": "stdout",
     "output_type": "stream",
     "text": [
      "score_max\n",
      "0.5000531493815908\n"
     ]
    },
    {
     "name": "stderr",
     "output_type": "stream",
     "text": [
      "100%|███████████████████████████████████████████████████████████████████████████████████████████████████████████████████████████████████████████████████████████████████████| 3524/3524 [00:40<00:00, 87.54it/s]\n"
     ]
    },
    {
     "name": "stdout",
     "output_type": "stream",
     "text": [
      "0.5000531493815908\n"
     ]
    },
    {
     "name": "stderr",
     "output_type": "stream",
     "text": [
      "100%|███████████████████████████████████████████████████████████████████████████████████████████████████████████████████████████████████████████████████████████████████████| 3524/3524 [00:38<00:00, 91.77it/s]\n"
     ]
    },
    {
     "name": "stdout",
     "output_type": "stream",
     "text": [
      "0.5000531493815908\n"
     ]
    },
    {
     "name": "stderr",
     "output_type": "stream",
     "text": [
      "100%|███████████████████████████████████████████████████████████████████████████████████████████████████████████████████████████████████████████████████████████████████████| 3524/3524 [00:38<00:00, 92.38it/s]\n"
     ]
    },
    {
     "name": "stdout",
     "output_type": "stream",
     "text": [
      "0.5000531493815908\n"
     ]
    },
    {
     "name": "stderr",
     "output_type": "stream",
     "text": [
      "100%|███████████████████████████████████████████████████████████████████████████████████████████████████████████████████████████████████████████████████████████████████████| 3524/3524 [00:39<00:00, 90.26it/s]\n"
     ]
    },
    {
     "name": "stdout",
     "output_type": "stream",
     "text": [
      "0.5000531493815908\n"
     ]
    },
    {
     "name": "stderr",
     "output_type": "stream",
     "text": [
      "100%|███████████████████████████████████████████████████████████████████████████████████████████████████████████████████████████████████████████████████████████████████████| 3524/3524 [00:37<00:00, 93.58it/s]\n"
     ]
    },
    {
     "name": "stdout",
     "output_type": "stream",
     "text": [
      "0.5000531493815908\n"
     ]
    },
    {
     "name": "stderr",
     "output_type": "stream",
     "text": [
      "100%|███████████████████████████████████████████████████████████████████████████████████████████████████████████████████████████████████████████████████████████████████████| 3524/3524 [00:38<00:00, 92.14it/s]\n"
     ]
    },
    {
     "name": "stdout",
     "output_type": "stream",
     "text": [
      "score_LogSumExp\n",
      "0.5000531493815908\n"
     ]
    },
    {
     "name": "stderr",
     "output_type": "stream",
     "text": [
      "100%|███████████████████████████████████████████████████████████████████████████████████████████████████████████████████████████████████████████████████████████████████████| 3524/3524 [00:39<00:00, 89.78it/s]\n"
     ]
    },
    {
     "name": "stdout",
     "output_type": "stream",
     "text": [
      "0.5000531493815908\n"
     ]
    },
    {
     "name": "stderr",
     "output_type": "stream",
     "text": [
      "100%|███████████████████████████████████████████████████████████████████████████████████████████████████████████████████████████████████████████████████████████████████████| 3524/3524 [00:39<00:00, 89.57it/s]\n"
     ]
    },
    {
     "name": "stdout",
     "output_type": "stream",
     "text": [
      "0.5000531493815908\n"
     ]
    },
    {
     "name": "stderr",
     "output_type": "stream",
     "text": [
      "100%|███████████████████████████████████████████████████████████████████████████████████████████████████████████████████████████████████████████████████████████████████████| 3524/3524 [00:40<00:00, 87.00it/s]\n"
     ]
    },
    {
     "name": "stdout",
     "output_type": "stream",
     "text": [
      "0.5000531493815908\n"
     ]
    },
    {
     "name": "stderr",
     "output_type": "stream",
     "text": [
      "100%|███████████████████████████████████████████████████████████████████████████████████████████████████████████████████████████████████████████████████████████████████████| 3524/3524 [00:41<00:00, 85.04it/s]\n"
     ]
    },
    {
     "name": "stdout",
     "output_type": "stream",
     "text": [
      "0.5000531493815908\n"
     ]
    },
    {
     "name": "stderr",
     "output_type": "stream",
     "text": [
      "100%|███████████████████████████████████████████████████████████████████████████████████████████████████████████████████████████████████████████████████████████████████████| 3524/3524 [00:39<00:00, 88.76it/s]\n"
     ]
    },
    {
     "name": "stdout",
     "output_type": "stream",
     "text": [
      "0.5000531493815908\n"
     ]
    },
    {
     "name": "stderr",
     "output_type": "stream",
     "text": [
      "100%|███████████████████████████████████████████████████████████████████████████████████████████████████████████████████████████████████████████████████████████████████████| 3524/3524 [00:42<00:00, 82.39it/s]\n"
     ]
    },
    {
     "name": "stdout",
     "output_type": "stream",
     "text": [
      "score_prob\n",
      "0.5000531493815908\n"
     ]
    },
    {
     "name": "stderr",
     "output_type": "stream",
     "text": [
      "100%|███████████████████████████████████████████████████████████████████████████████████████████████████████████████████████████████████████████████████████████████████████| 3524/3524 [00:40<00:00, 87.33it/s]\n"
     ]
    },
    {
     "name": "stdout",
     "output_type": "stream",
     "text": [
      "0.5000531493815908\n"
     ]
    },
    {
     "name": "stderr",
     "output_type": "stream",
     "text": [
      "100%|███████████████████████████████████████████████████████████████████████████████████████████████████████████████████████████████████████████████████████████████████████| 3524/3524 [00:41<00:00, 84.21it/s]\n"
     ]
    },
    {
     "name": "stdout",
     "output_type": "stream",
     "text": [
      "0.5000531493815908\n"
     ]
    },
    {
     "name": "stderr",
     "output_type": "stream",
     "text": [
      "100%|███████████████████████████████████████████████████████████████████████████████████████████████████████████████████████████████████████████████████████████████████████| 3524/3524 [00:41<00:00, 84.96it/s]\n"
     ]
    },
    {
     "name": "stdout",
     "output_type": "stream",
     "text": [
      "0.5000531493815908\n"
     ]
    },
    {
     "name": "stderr",
     "output_type": "stream",
     "text": [
      "100%|███████████████████████████████████████████████████████████████████████████████████████████████████████████████████████████████████████████████████████████████████████| 3524/3524 [00:55<00:00, 63.49it/s]\n"
     ]
    },
    {
     "name": "stdout",
     "output_type": "stream",
     "text": [
      "0.5000531493815908\n"
     ]
    },
    {
     "name": "stderr",
     "output_type": "stream",
     "text": [
      "100%|███████████████████████████████████████████████████████████████████████████████████████████████████████████████████████████████████████████████████████████████████████| 3524/3524 [00:55<00:00, 63.42it/s]\n"
     ]
    },
    {
     "name": "stdout",
     "output_type": "stream",
     "text": [
      "0.5000531493815908\n"
     ]
    },
    {
     "name": "stderr",
     "output_type": "stream",
     "text": [
      "100%|███████████████████████████████████████████████████████████████████████████████████████████████████████████████████████████████████████████████████████████████████████| 3524/3524 [00:43<00:00, 81.74it/s]\n"
     ]
    },
    {
     "name": "stdout",
     "output_type": "stream",
     "text": [
      "score_norm\n",
      "0.5000531493815908\n"
     ]
    },
    {
     "name": "stderr",
     "output_type": "stream",
     "text": [
      "100%|███████████████████████████████████████████████████████████████████████████████████████████████████████████████████████████████████████████████████████████████████████| 3524/3524 [00:44<00:00, 79.67it/s]\n"
     ]
    },
    {
     "name": "stdout",
     "output_type": "stream",
     "text": [
      "0.5000531493815908\n"
     ]
    },
    {
     "name": "stderr",
     "output_type": "stream",
     "text": [
      "100%|███████████████████████████████████████████████████████████████████████████████████████████████████████████████████████████████████████████████████████████████████████| 3524/3524 [00:43<00:00, 81.30it/s]\n"
     ]
    },
    {
     "name": "stdout",
     "output_type": "stream",
     "text": [
      "0.5000531493815908\n"
     ]
    },
    {
     "name": "stderr",
     "output_type": "stream",
     "text": [
      "100%|███████████████████████████████████████████████████████████████████████████████████████████████████████████████████████████████████████████████████████████████████████| 3524/3524 [00:42<00:00, 82.45it/s]\n"
     ]
    },
    {
     "name": "stdout",
     "output_type": "stream",
     "text": [
      "0.5000531493815908\n"
     ]
    },
    {
     "name": "stderr",
     "output_type": "stream",
     "text": [
      "100%|███████████████████████████████████████████████████████████████████████████████████████████████████████████████████████████████████████████████████████████████████████| 3524/3524 [00:43<00:00, 81.35it/s]\n"
     ]
    },
    {
     "name": "stdout",
     "output_type": "stream",
     "text": [
      "0.5000531493815908\n"
     ]
    },
    {
     "name": "stderr",
     "output_type": "stream",
     "text": [
      "100%|███████████████████████████████████████████████████████████████████████████████████████████████████████████████████████████████████████████████████████████████████████| 3524/3524 [00:43<00:00, 81.71it/s]\n"
     ]
    },
    {
     "name": "stdout",
     "output_type": "stream",
     "text": [
      "0.5000531493815908\n"
     ]
    },
    {
     "name": "stderr",
     "output_type": "stream",
     "text": [
      "100%|███████████████████████████████████████████████████████████████████████████████████████████████████████████████████████████████████████████████████████████████████████| 3524/3524 [00:41<00:00, 84.91it/s]\n"
     ]
    },
    {
     "name": "stdout",
     "output_type": "stream",
     "text": [
      "score_norm10\n",
      "0.5000531493815908\n"
     ]
    },
    {
     "name": "stderr",
     "output_type": "stream",
     "text": [
      "100%|███████████████████████████████████████████████████████████████████████████████████████████████████████████████████████████████████████████████████████████████████████| 3524/3524 [00:41<00:00, 85.60it/s]\n"
     ]
    },
    {
     "name": "stdout",
     "output_type": "stream",
     "text": [
      "0.5000531493815908\n"
     ]
    },
    {
     "name": "stderr",
     "output_type": "stream",
     "text": [
      "100%|███████████████████████████████████████████████████████████████████████████████████████████████████████████████████████████████████████████████████████████████████████| 3524/3524 [00:42<00:00, 82.39it/s]\n"
     ]
    },
    {
     "name": "stdout",
     "output_type": "stream",
     "text": [
      "0.5000531493815908\n"
     ]
    },
    {
     "name": "stderr",
     "output_type": "stream",
     "text": [
      "100%|███████████████████████████████████████████████████████████████████████████████████████████████████████████████████████████████████████████████████████████████████████| 3524/3524 [00:43<00:00, 81.56it/s]\n"
     ]
    },
    {
     "name": "stdout",
     "output_type": "stream",
     "text": [
      "0.5000531493815908\n"
     ]
    },
    {
     "name": "stderr",
     "output_type": "stream",
     "text": [
      "100%|███████████████████████████████████████████████████████████████████████████████████████████████████████████████████████████████████████████████████████████████████████| 3524/3524 [00:44<00:00, 80.03it/s]\n"
     ]
    },
    {
     "name": "stdout",
     "output_type": "stream",
     "text": [
      "0.5000531493815908\n"
     ]
    },
    {
     "name": "stderr",
     "output_type": "stream",
     "text": [
      "100%|███████████████████████████████████████████████████████████████████████████████████████████████████████████████████████████████████████████████████████████████████████| 3524/3524 [00:42<00:00, 83.33it/s]\n"
     ]
    },
    {
     "name": "stdout",
     "output_type": "stream",
     "text": [
      "0.5000531493815908\n"
     ]
    },
    {
     "name": "stderr",
     "output_type": "stream",
     "text": [
      "100%|███████████████████████████████████████████████████████████████████████████████████████████████████████████████████████████████████████████████████████████████████████| 3524/3524 [00:41<00:00, 85.02it/s]\n"
     ]
    },
    {
     "name": "stdout",
     "output_type": "stream",
     "text": [
      "score_median\n",
      "0.5000531493815908\n"
     ]
    },
    {
     "name": "stderr",
     "output_type": "stream",
     "text": [
      "100%|███████████████████████████████████████████████████████████████████████████████████████████████████████████████████████████████████████████████████████████████████████| 3524/3524 [00:43<00:00, 81.14it/s]\n"
     ]
    },
    {
     "name": "stdout",
     "output_type": "stream",
     "text": [
      "0.5000531493815908\n"
     ]
    },
    {
     "name": "stderr",
     "output_type": "stream",
     "text": [
      "100%|███████████████████████████████████████████████████████████████████████████████████████████████████████████████████████████████████████████████████████████████████████| 3524/3524 [00:41<00:00, 84.54it/s]\n"
     ]
    },
    {
     "name": "stdout",
     "output_type": "stream",
     "text": [
      "0.5000531493815908\n"
     ]
    },
    {
     "name": "stderr",
     "output_type": "stream",
     "text": [
      "100%|███████████████████████████████████████████████████████████████████████████████████████████████████████████████████████████████████████████████████████████████████████| 3524/3524 [00:43<00:00, 80.44it/s]\n"
     ]
    },
    {
     "name": "stdout",
     "output_type": "stream",
     "text": [
      "0.5000531493815908\n"
     ]
    },
    {
     "name": "stderr",
     "output_type": "stream",
     "text": [
      "100%|███████████████████████████████████████████████████████████████████████████████████████████████████████████████████████████████████████████████████████████████████████| 3524/3524 [00:42<00:00, 83.58it/s]\n"
     ]
    },
    {
     "name": "stdout",
     "output_type": "stream",
     "text": [
      "0.5000531493815908\n"
     ]
    },
    {
     "name": "stderr",
     "output_type": "stream",
     "text": [
      "100%|███████████████████████████████████████████████████████████████████████████████████████████████████████████████████████████████████████████████████████████████████████| 3524/3524 [00:41<00:00, 85.76it/s]\n"
     ]
    },
    {
     "name": "stdout",
     "output_type": "stream",
     "text": [
      "0.5000531493815908\n"
     ]
    },
    {
     "name": "stderr",
     "output_type": "stream",
     "text": [
      "100%|███████████████████████████████████████████████████████████████████████████████████████████████████████████████████████████████████████████████████████████████████████| 3524/3524 [00:40<00:00, 86.78it/s]\n"
     ]
    },
    {
     "name": "stdout",
     "output_type": "stream",
     "text": [
      "score_mean\n",
      "0.5000531493815908\n"
     ]
    },
    {
     "name": "stderr",
     "output_type": "stream",
     "text": [
      "100%|███████████████████████████████████████████████████████████████████████████████████████████████████████████████████████████████████████████████████████████████████████| 3524/3524 [00:42<00:00, 83.24it/s]\n"
     ]
    },
    {
     "name": "stdout",
     "output_type": "stream",
     "text": [
      "0.5000531493815908\n"
     ]
    },
    {
     "name": "stderr",
     "output_type": "stream",
     "text": [
      "100%|███████████████████████████████████████████████████████████████████████████████████████████████████████████████████████████████████████████████████████████████████████| 3524/3524 [00:42<00:00, 82.82it/s]\n"
     ]
    },
    {
     "name": "stdout",
     "output_type": "stream",
     "text": [
      "0.5000531493815908\n"
     ]
    },
    {
     "name": "stderr",
     "output_type": "stream",
     "text": [
      "100%|███████████████████████████████████████████████████████████████████████████████████████████████████████████████████████████████████████████████████████████████████████| 3524/3524 [00:42<00:00, 83.77it/s]\n"
     ]
    },
    {
     "name": "stdout",
     "output_type": "stream",
     "text": [
      "0.5000531493815908\n"
     ]
    },
    {
     "name": "stderr",
     "output_type": "stream",
     "text": [
      "100%|███████████████████████████████████████████████████████████████████████████████████████████████████████████████████████████████████████████████████████████████████████| 3524/3524 [00:42<00:00, 82.60it/s]\n"
     ]
    },
    {
     "name": "stdout",
     "output_type": "stream",
     "text": [
      "0.5000531493815908\n"
     ]
    },
    {
     "name": "stderr",
     "output_type": "stream",
     "text": [
      "100%|███████████████████████████████████████████████████████████████████████████████████████████████████████████████████████████████████████████████████████████████████████| 3524/3524 [00:40<00:00, 88.03it/s]\n"
     ]
    },
    {
     "name": "stdout",
     "output_type": "stream",
     "text": [
      "0.5000531493815908\n"
     ]
    },
    {
     "name": "stderr",
     "output_type": "stream",
     "text": [
      "100%|███████████████████████████████████████████████████████████████████████████████████████████████████████████████████████████████████████████████████████████████████████| 3524/3524 [00:39<00:00, 88.72it/s]\n"
     ]
    }
   ],
   "source": [
    "for score in [score_sum, score_max, score_LogSumExp, score_prob, score_norm, score_norm10, score_median, score_mean]:\n",
    "    print(score.__name__)\n",
    "    # for norm in np.linspace(0, 10, 21):\n",
    "    for norm in range(6):\n",
    "        if score.__name__+str(norm) in score_roc_data:\n",
    "            continue\n",
    "        fpr, tpr, thresholds = identify(seq, dfs_comb[0], score=lambda a, b: score(a, b, norm=norm))\n",
    "        score_roc_data[score.__name__+str(norm)] = (fpr, tpr, thresholds)"
   ]
  },
  {
   "cell_type": "code",
   "execution_count": 258,
   "id": "dad1bc7e",
   "metadata": {},
   "outputs": [],
   "source": [
    "dfs_comb = {}\n",
    "for spread in [-100, -10, -1, 0, 1, 10]:\n",
    "    dfs_comb[spread] = combine(df_train, spread=spread)"
   ]
  },
  {
   "cell_type": "code",
   "execution_count": 30,
   "id": "a2dd77ab",
   "metadata": {},
   "outputs": [],
   "source": [
    "roc_data_comb = {}\n",
    "\n",
    "def compute_roc_comb(spread=0.0):\n",
    "    if spread in roc_data_comb:\n",
    "        return\n",
    "    fpr, tpr, thresholds = identify(seq, dfs_comb[spread])\n",
    "    roc_data_comb[spread] = (fpr, tpr, thresholds)"
   ]
  },
  {
   "cell_type": "code",
   "execution_count": 259,
   "id": "1a793f8c",
   "metadata": {},
   "outputs": [
    {
     "name": "stdout",
     "output_type": "stream",
     "text": [
      "-10\n",
      "0.5000531493815908\n"
     ]
    },
    {
     "name": "stderr",
     "output_type": "stream",
     "text": [
      "100%|███████████████████████████████████████████████████████████████████████████████████████████████████████████████████████████████████████████████████████████████████████| 3524/3524 [00:38<00:00, 91.55it/s]\n"
     ]
    },
    {
     "name": "stdout",
     "output_type": "stream",
     "text": [
      "-1\n",
      "0.5000531493815908\n"
     ]
    },
    {
     "name": "stderr",
     "output_type": "stream",
     "text": [
      "100%|███████████████████████████████████████████████████████████████████████████████████████████████████████████████████████████████████████████████████████████████████████| 3524/3524 [00:48<00:00, 72.10it/s]\n"
     ]
    },
    {
     "name": "stdout",
     "output_type": "stream",
     "text": [
      "0\n",
      "0.5000531493815908\n"
     ]
    },
    {
     "name": "stderr",
     "output_type": "stream",
     "text": [
      "100%|███████████████████████████████████████████████████████████████████████████████████████████████████████████████████████████████████████████████████████████████████████| 3524/3524 [00:55<00:00, 62.99it/s]\n"
     ]
    },
    {
     "name": "stdout",
     "output_type": "stream",
     "text": [
      "1\n",
      "0.5000531493815908\n"
     ]
    },
    {
     "name": "stderr",
     "output_type": "stream",
     "text": [
      "100%|███████████████████████████████████████████████████████████████████████████████████████████████████████████████████████████████████████████████████████████████████████| 3524/3524 [00:45<00:00, 77.28it/s]\n"
     ]
    },
    {
     "name": "stdout",
     "output_type": "stream",
     "text": [
      "10\n",
      "0.5000531493815908\n"
     ]
    },
    {
     "name": "stderr",
     "output_type": "stream",
     "text": [
      "100%|███████████████████████████████████████████████████████████████████████████████████████████████████████████████████████████████████████████████████████████████████████| 3524/3524 [00:44<00:00, 79.74it/s]\n"
     ]
    },
    {
     "name": "stdout",
     "output_type": "stream",
     "text": [
      "-100\n",
      "0.5000531493815908\n"
     ]
    },
    {
     "name": "stderr",
     "output_type": "stream",
     "text": [
      "100%|███████████████████████████████████████████████████████████████████████████████████████████████████████████████████████████████████████████████████████████████████████| 3524/3524 [00:41<00:00, 85.68it/s]\n"
     ]
    }
   ],
   "source": [
    "for spread in dfs_comb.keys():\n",
    "    print(spread)\n",
    "    compute_roc_comb(spread)"
   ]
  },
  {
   "cell_type": "code",
   "execution_count": 88,
   "id": "bfcdbdf5",
   "metadata": {},
   "outputs": [],
   "source": [
    "roc_data = {}\n",
    "\n",
    "def compute_roc(p=0.5):\n",
    "    if p in roc_data:\n",
    "        return\n",
    "    fpr, tpr, thresholds = identify(seq, anonymize(df_train, p=p))\n",
    "    roc_data[p] = (fpr, tpr, thresholds)"
   ]
  },
  {
   "cell_type": "code",
   "execution_count": 92,
   "id": "d5dbb346",
   "metadata": {},
   "outputs": [
    {
     "name": "stdout",
     "output_type": "stream",
     "text": [
      "0\n",
      "0.500182234211394\n"
     ]
    },
    {
     "name": "stderr",
     "output_type": "stream",
     "text": [
      "100%|█████████████████████████████████████████████████████████████| 1213/1213 [10:56<00:00,  1.85it/s]\n"
     ]
    },
    {
     "name": "stdout",
     "output_type": "stream",
     "text": [
      "0.25\n",
      "0.500182234211394\n"
     ]
    },
    {
     "name": "stderr",
     "output_type": "stream",
     "text": [
      "100%|█████████████████████████████████████████████████████████████| 1213/1213 [08:09<00:00,  2.48it/s]\n"
     ]
    },
    {
     "name": "stdout",
     "output_type": "stream",
     "text": [
      "0.5\n",
      "0.500182234211394\n"
     ]
    },
    {
     "name": "stderr",
     "output_type": "stream",
     "text": [
      "100%|█████████████████████████████████████████████████████████████| 1213/1213 [05:10<00:00,  3.90it/s]\n"
     ]
    },
    {
     "name": "stdout",
     "output_type": "stream",
     "text": [
      "0.75\n",
      "0.500182234211394\n"
     ]
    },
    {
     "name": "stderr",
     "output_type": "stream",
     "text": [
      "100%|█████████████████████████████████████████████████████████████| 1213/1213 [02:44<00:00,  7.39it/s]\n"
     ]
    },
    {
     "name": "stdout",
     "output_type": "stream",
     "text": [
      "0.99\n",
      "0.500182234211394\n"
     ]
    },
    {
     "name": "stderr",
     "output_type": "stream",
     "text": [
      "100%|█████████████████████████████████████████████████████████████| 1213/1213 [00:18<00:00, 64.27it/s]\n"
     ]
    },
    {
     "name": "stdout",
     "output_type": "stream",
     "text": [
      "0.999\n",
      "0.500182234211394\n"
     ]
    },
    {
     "name": "stderr",
     "output_type": "stream",
     "text": [
      "100%|████████████████████████████████████████████████████████████| 1213/1213 [00:08<00:00, 144.32it/s]\n"
     ]
    }
   ],
   "source": [
    "for p in [0, 0.25, 0.5, 0.75, 0.99, 0.999]:\n",
    "    print(p)\n",
    "    compute_roc(p)"
   ]
  },
  {
   "cell_type": "code",
   "execution_count": 208,
   "id": "32d5a34c",
   "metadata": {},
   "outputs": [
    {
     "data": {
      "application/javascript": [
       "/* Put everything inside the global mpl namespace */\n",
       "/* global mpl */\n",
       "window.mpl = {};\n",
       "\n",
       "mpl.get_websocket_type = function () {\n",
       "    if (typeof WebSocket !== 'undefined') {\n",
       "        return WebSocket;\n",
       "    } else if (typeof MozWebSocket !== 'undefined') {\n",
       "        return MozWebSocket;\n",
       "    } else {\n",
       "        alert(\n",
       "            'Your browser does not have WebSocket support. ' +\n",
       "                'Please try Chrome, Safari or Firefox ≥ 6. ' +\n",
       "                'Firefox 4 and 5 are also supported but you ' +\n",
       "                'have to enable WebSockets in about:config.'\n",
       "        );\n",
       "    }\n",
       "};\n",
       "\n",
       "mpl.figure = function (figure_id, websocket, ondownload, parent_element) {\n",
       "    this.id = figure_id;\n",
       "\n",
       "    this.ws = websocket;\n",
       "\n",
       "    this.supports_binary = this.ws.binaryType !== undefined;\n",
       "\n",
       "    if (!this.supports_binary) {\n",
       "        var warnings = document.getElementById('mpl-warnings');\n",
       "        if (warnings) {\n",
       "            warnings.style.display = 'block';\n",
       "            warnings.textContent =\n",
       "                'This browser does not support binary websocket messages. ' +\n",
       "                'Performance may be slow.';\n",
       "        }\n",
       "    }\n",
       "\n",
       "    this.imageObj = new Image();\n",
       "\n",
       "    this.context = undefined;\n",
       "    this.message = undefined;\n",
       "    this.canvas = undefined;\n",
       "    this.rubberband_canvas = undefined;\n",
       "    this.rubberband_context = undefined;\n",
       "    this.format_dropdown = undefined;\n",
       "\n",
       "    this.image_mode = 'full';\n",
       "\n",
       "    this.root = document.createElement('div');\n",
       "    this.root.setAttribute('style', 'display: inline-block');\n",
       "    this._root_extra_style(this.root);\n",
       "\n",
       "    parent_element.appendChild(this.root);\n",
       "\n",
       "    this._init_header(this);\n",
       "    this._init_canvas(this);\n",
       "    this._init_toolbar(this);\n",
       "\n",
       "    var fig = this;\n",
       "\n",
       "    this.waiting = false;\n",
       "\n",
       "    this.ws.onopen = function () {\n",
       "        fig.send_message('supports_binary', { value: fig.supports_binary });\n",
       "        fig.send_message('send_image_mode', {});\n",
       "        if (fig.ratio !== 1) {\n",
       "            fig.send_message('set_device_pixel_ratio', {\n",
       "                device_pixel_ratio: fig.ratio,\n",
       "            });\n",
       "        }\n",
       "        fig.send_message('refresh', {});\n",
       "    };\n",
       "\n",
       "    this.imageObj.onload = function () {\n",
       "        if (fig.image_mode === 'full') {\n",
       "            // Full images could contain transparency (where diff images\n",
       "            // almost always do), so we need to clear the canvas so that\n",
       "            // there is no ghosting.\n",
       "            fig.context.clearRect(0, 0, fig.canvas.width, fig.canvas.height);\n",
       "        }\n",
       "        fig.context.drawImage(fig.imageObj, 0, 0);\n",
       "    };\n",
       "\n",
       "    this.imageObj.onunload = function () {\n",
       "        fig.ws.close();\n",
       "    };\n",
       "\n",
       "    this.ws.onmessage = this._make_on_message_function(this);\n",
       "\n",
       "    this.ondownload = ondownload;\n",
       "};\n",
       "\n",
       "mpl.figure.prototype._init_header = function () {\n",
       "    var titlebar = document.createElement('div');\n",
       "    titlebar.classList =\n",
       "        'ui-dialog-titlebar ui-widget-header ui-corner-all ui-helper-clearfix';\n",
       "    var titletext = document.createElement('div');\n",
       "    titletext.classList = 'ui-dialog-title';\n",
       "    titletext.setAttribute(\n",
       "        'style',\n",
       "        'width: 100%; text-align: center; padding: 3px;'\n",
       "    );\n",
       "    titlebar.appendChild(titletext);\n",
       "    this.root.appendChild(titlebar);\n",
       "    this.header = titletext;\n",
       "};\n",
       "\n",
       "mpl.figure.prototype._canvas_extra_style = function (_canvas_div) {};\n",
       "\n",
       "mpl.figure.prototype._root_extra_style = function (_canvas_div) {};\n",
       "\n",
       "mpl.figure.prototype._init_canvas = function () {\n",
       "    var fig = this;\n",
       "\n",
       "    var canvas_div = (this.canvas_div = document.createElement('div'));\n",
       "    canvas_div.setAttribute(\n",
       "        'style',\n",
       "        'border: 1px solid #ddd;' +\n",
       "            'box-sizing: content-box;' +\n",
       "            'clear: both;' +\n",
       "            'min-height: 1px;' +\n",
       "            'min-width: 1px;' +\n",
       "            'outline: 0;' +\n",
       "            'overflow: hidden;' +\n",
       "            'position: relative;' +\n",
       "            'resize: both;'\n",
       "    );\n",
       "\n",
       "    function on_keyboard_event_closure(name) {\n",
       "        return function (event) {\n",
       "            return fig.key_event(event, name);\n",
       "        };\n",
       "    }\n",
       "\n",
       "    canvas_div.addEventListener(\n",
       "        'keydown',\n",
       "        on_keyboard_event_closure('key_press')\n",
       "    );\n",
       "    canvas_div.addEventListener(\n",
       "        'keyup',\n",
       "        on_keyboard_event_closure('key_release')\n",
       "    );\n",
       "\n",
       "    this._canvas_extra_style(canvas_div);\n",
       "    this.root.appendChild(canvas_div);\n",
       "\n",
       "    var canvas = (this.canvas = document.createElement('canvas'));\n",
       "    canvas.classList.add('mpl-canvas');\n",
       "    canvas.setAttribute('style', 'box-sizing: content-box;');\n",
       "\n",
       "    this.context = canvas.getContext('2d');\n",
       "\n",
       "    var backingStore =\n",
       "        this.context.backingStorePixelRatio ||\n",
       "        this.context.webkitBackingStorePixelRatio ||\n",
       "        this.context.mozBackingStorePixelRatio ||\n",
       "        this.context.msBackingStorePixelRatio ||\n",
       "        this.context.oBackingStorePixelRatio ||\n",
       "        this.context.backingStorePixelRatio ||\n",
       "        1;\n",
       "\n",
       "    this.ratio = (window.devicePixelRatio || 1) / backingStore;\n",
       "\n",
       "    var rubberband_canvas = (this.rubberband_canvas = document.createElement(\n",
       "        'canvas'\n",
       "    ));\n",
       "    rubberband_canvas.setAttribute(\n",
       "        'style',\n",
       "        'box-sizing: content-box; position: absolute; left: 0; top: 0; z-index: 1;'\n",
       "    );\n",
       "\n",
       "    // Apply a ponyfill if ResizeObserver is not implemented by browser.\n",
       "    if (this.ResizeObserver === undefined) {\n",
       "        if (window.ResizeObserver !== undefined) {\n",
       "            this.ResizeObserver = window.ResizeObserver;\n",
       "        } else {\n",
       "            var obs = _JSXTOOLS_RESIZE_OBSERVER({});\n",
       "            this.ResizeObserver = obs.ResizeObserver;\n",
       "        }\n",
       "    }\n",
       "\n",
       "    this.resizeObserverInstance = new this.ResizeObserver(function (entries) {\n",
       "        var nentries = entries.length;\n",
       "        for (var i = 0; i < nentries; i++) {\n",
       "            var entry = entries[i];\n",
       "            var width, height;\n",
       "            if (entry.contentBoxSize) {\n",
       "                if (entry.contentBoxSize instanceof Array) {\n",
       "                    // Chrome 84 implements new version of spec.\n",
       "                    width = entry.contentBoxSize[0].inlineSize;\n",
       "                    height = entry.contentBoxSize[0].blockSize;\n",
       "                } else {\n",
       "                    // Firefox implements old version of spec.\n",
       "                    width = entry.contentBoxSize.inlineSize;\n",
       "                    height = entry.contentBoxSize.blockSize;\n",
       "                }\n",
       "            } else {\n",
       "                // Chrome <84 implements even older version of spec.\n",
       "                width = entry.contentRect.width;\n",
       "                height = entry.contentRect.height;\n",
       "            }\n",
       "\n",
       "            // Keep the size of the canvas and rubber band canvas in sync with\n",
       "            // the canvas container.\n",
       "            if (entry.devicePixelContentBoxSize) {\n",
       "                // Chrome 84 implements new version of spec.\n",
       "                canvas.setAttribute(\n",
       "                    'width',\n",
       "                    entry.devicePixelContentBoxSize[0].inlineSize\n",
       "                );\n",
       "                canvas.setAttribute(\n",
       "                    'height',\n",
       "                    entry.devicePixelContentBoxSize[0].blockSize\n",
       "                );\n",
       "            } else {\n",
       "                canvas.setAttribute('width', width * fig.ratio);\n",
       "                canvas.setAttribute('height', height * fig.ratio);\n",
       "            }\n",
       "            canvas.setAttribute(\n",
       "                'style',\n",
       "                'width: ' + width + 'px; height: ' + height + 'px;'\n",
       "            );\n",
       "\n",
       "            rubberband_canvas.setAttribute('width', width);\n",
       "            rubberband_canvas.setAttribute('height', height);\n",
       "\n",
       "            // And update the size in Python. We ignore the initial 0/0 size\n",
       "            // that occurs as the element is placed into the DOM, which should\n",
       "            // otherwise not happen due to the minimum size styling.\n",
       "            if (fig.ws.readyState == 1 && width != 0 && height != 0) {\n",
       "                fig.request_resize(width, height);\n",
       "            }\n",
       "        }\n",
       "    });\n",
       "    this.resizeObserverInstance.observe(canvas_div);\n",
       "\n",
       "    function on_mouse_event_closure(name) {\n",
       "        return function (event) {\n",
       "            return fig.mouse_event(event, name);\n",
       "        };\n",
       "    }\n",
       "\n",
       "    rubberband_canvas.addEventListener(\n",
       "        'mousedown',\n",
       "        on_mouse_event_closure('button_press')\n",
       "    );\n",
       "    rubberband_canvas.addEventListener(\n",
       "        'mouseup',\n",
       "        on_mouse_event_closure('button_release')\n",
       "    );\n",
       "    rubberband_canvas.addEventListener(\n",
       "        'dblclick',\n",
       "        on_mouse_event_closure('dblclick')\n",
       "    );\n",
       "    // Throttle sequential mouse events to 1 every 20ms.\n",
       "    rubberband_canvas.addEventListener(\n",
       "        'mousemove',\n",
       "        on_mouse_event_closure('motion_notify')\n",
       "    );\n",
       "\n",
       "    rubberband_canvas.addEventListener(\n",
       "        'mouseenter',\n",
       "        on_mouse_event_closure('figure_enter')\n",
       "    );\n",
       "    rubberband_canvas.addEventListener(\n",
       "        'mouseleave',\n",
       "        on_mouse_event_closure('figure_leave')\n",
       "    );\n",
       "\n",
       "    canvas_div.addEventListener('wheel', function (event) {\n",
       "        if (event.deltaY < 0) {\n",
       "            event.step = 1;\n",
       "        } else {\n",
       "            event.step = -1;\n",
       "        }\n",
       "        on_mouse_event_closure('scroll')(event);\n",
       "    });\n",
       "\n",
       "    canvas_div.appendChild(canvas);\n",
       "    canvas_div.appendChild(rubberband_canvas);\n",
       "\n",
       "    this.rubberband_context = rubberband_canvas.getContext('2d');\n",
       "    this.rubberband_context.strokeStyle = '#000000';\n",
       "\n",
       "    this._resize_canvas = function (width, height, forward) {\n",
       "        if (forward) {\n",
       "            canvas_div.style.width = width + 'px';\n",
       "            canvas_div.style.height = height + 'px';\n",
       "        }\n",
       "    };\n",
       "\n",
       "    // Disable right mouse context menu.\n",
       "    this.rubberband_canvas.addEventListener('contextmenu', function (_e) {\n",
       "        event.preventDefault();\n",
       "        return false;\n",
       "    });\n",
       "\n",
       "    function set_focus() {\n",
       "        canvas.focus();\n",
       "        canvas_div.focus();\n",
       "    }\n",
       "\n",
       "    window.setTimeout(set_focus, 100);\n",
       "};\n",
       "\n",
       "mpl.figure.prototype._init_toolbar = function () {\n",
       "    var fig = this;\n",
       "\n",
       "    var toolbar = document.createElement('div');\n",
       "    toolbar.classList = 'mpl-toolbar';\n",
       "    this.root.appendChild(toolbar);\n",
       "\n",
       "    function on_click_closure(name) {\n",
       "        return function (_event) {\n",
       "            return fig.toolbar_button_onclick(name);\n",
       "        };\n",
       "    }\n",
       "\n",
       "    function on_mouseover_closure(tooltip) {\n",
       "        return function (event) {\n",
       "            if (!event.currentTarget.disabled) {\n",
       "                return fig.toolbar_button_onmouseover(tooltip);\n",
       "            }\n",
       "        };\n",
       "    }\n",
       "\n",
       "    fig.buttons = {};\n",
       "    var buttonGroup = document.createElement('div');\n",
       "    buttonGroup.classList = 'mpl-button-group';\n",
       "    for (var toolbar_ind in mpl.toolbar_items) {\n",
       "        var name = mpl.toolbar_items[toolbar_ind][0];\n",
       "        var tooltip = mpl.toolbar_items[toolbar_ind][1];\n",
       "        var image = mpl.toolbar_items[toolbar_ind][2];\n",
       "        var method_name = mpl.toolbar_items[toolbar_ind][3];\n",
       "\n",
       "        if (!name) {\n",
       "            /* Instead of a spacer, we start a new button group. */\n",
       "            if (buttonGroup.hasChildNodes()) {\n",
       "                toolbar.appendChild(buttonGroup);\n",
       "            }\n",
       "            buttonGroup = document.createElement('div');\n",
       "            buttonGroup.classList = 'mpl-button-group';\n",
       "            continue;\n",
       "        }\n",
       "\n",
       "        var button = (fig.buttons[name] = document.createElement('button'));\n",
       "        button.classList = 'mpl-widget';\n",
       "        button.setAttribute('role', 'button');\n",
       "        button.setAttribute('aria-disabled', 'false');\n",
       "        button.addEventListener('click', on_click_closure(method_name));\n",
       "        button.addEventListener('mouseover', on_mouseover_closure(tooltip));\n",
       "\n",
       "        var icon_img = document.createElement('img');\n",
       "        icon_img.src = '_images/' + image + '.png';\n",
       "        icon_img.srcset = '_images/' + image + '_large.png 2x';\n",
       "        icon_img.alt = tooltip;\n",
       "        button.appendChild(icon_img);\n",
       "\n",
       "        buttonGroup.appendChild(button);\n",
       "    }\n",
       "\n",
       "    if (buttonGroup.hasChildNodes()) {\n",
       "        toolbar.appendChild(buttonGroup);\n",
       "    }\n",
       "\n",
       "    var fmt_picker = document.createElement('select');\n",
       "    fmt_picker.classList = 'mpl-widget';\n",
       "    toolbar.appendChild(fmt_picker);\n",
       "    this.format_dropdown = fmt_picker;\n",
       "\n",
       "    for (var ind in mpl.extensions) {\n",
       "        var fmt = mpl.extensions[ind];\n",
       "        var option = document.createElement('option');\n",
       "        option.selected = fmt === mpl.default_extension;\n",
       "        option.innerHTML = fmt;\n",
       "        fmt_picker.appendChild(option);\n",
       "    }\n",
       "\n",
       "    var status_bar = document.createElement('span');\n",
       "    status_bar.classList = 'mpl-message';\n",
       "    toolbar.appendChild(status_bar);\n",
       "    this.message = status_bar;\n",
       "};\n",
       "\n",
       "mpl.figure.prototype.request_resize = function (x_pixels, y_pixels) {\n",
       "    // Request matplotlib to resize the figure. Matplotlib will then trigger a resize in the client,\n",
       "    // which will in turn request a refresh of the image.\n",
       "    this.send_message('resize', { width: x_pixels, height: y_pixels });\n",
       "};\n",
       "\n",
       "mpl.figure.prototype.send_message = function (type, properties) {\n",
       "    properties['type'] = type;\n",
       "    properties['figure_id'] = this.id;\n",
       "    this.ws.send(JSON.stringify(properties));\n",
       "};\n",
       "\n",
       "mpl.figure.prototype.send_draw_message = function () {\n",
       "    if (!this.waiting) {\n",
       "        this.waiting = true;\n",
       "        this.ws.send(JSON.stringify({ type: 'draw', figure_id: this.id }));\n",
       "    }\n",
       "};\n",
       "\n",
       "mpl.figure.prototype.handle_save = function (fig, _msg) {\n",
       "    var format_dropdown = fig.format_dropdown;\n",
       "    var format = format_dropdown.options[format_dropdown.selectedIndex].value;\n",
       "    fig.ondownload(fig, format);\n",
       "};\n",
       "\n",
       "mpl.figure.prototype.handle_resize = function (fig, msg) {\n",
       "    var size = msg['size'];\n",
       "    if (size[0] !== fig.canvas.width || size[1] !== fig.canvas.height) {\n",
       "        fig._resize_canvas(size[0], size[1], msg['forward']);\n",
       "        fig.send_message('refresh', {});\n",
       "    }\n",
       "};\n",
       "\n",
       "mpl.figure.prototype.handle_rubberband = function (fig, msg) {\n",
       "    var x0 = msg['x0'] / fig.ratio;\n",
       "    var y0 = (fig.canvas.height - msg['y0']) / fig.ratio;\n",
       "    var x1 = msg['x1'] / fig.ratio;\n",
       "    var y1 = (fig.canvas.height - msg['y1']) / fig.ratio;\n",
       "    x0 = Math.floor(x0) + 0.5;\n",
       "    y0 = Math.floor(y0) + 0.5;\n",
       "    x1 = Math.floor(x1) + 0.5;\n",
       "    y1 = Math.floor(y1) + 0.5;\n",
       "    var min_x = Math.min(x0, x1);\n",
       "    var min_y = Math.min(y0, y1);\n",
       "    var width = Math.abs(x1 - x0);\n",
       "    var height = Math.abs(y1 - y0);\n",
       "\n",
       "    fig.rubberband_context.clearRect(\n",
       "        0,\n",
       "        0,\n",
       "        fig.canvas.width / fig.ratio,\n",
       "        fig.canvas.height / fig.ratio\n",
       "    );\n",
       "\n",
       "    fig.rubberband_context.strokeRect(min_x, min_y, width, height);\n",
       "};\n",
       "\n",
       "mpl.figure.prototype.handle_figure_label = function (fig, msg) {\n",
       "    // Updates the figure title.\n",
       "    fig.header.textContent = msg['label'];\n",
       "};\n",
       "\n",
       "mpl.figure.prototype.handle_cursor = function (fig, msg) {\n",
       "    fig.rubberband_canvas.style.cursor = msg['cursor'];\n",
       "};\n",
       "\n",
       "mpl.figure.prototype.handle_message = function (fig, msg) {\n",
       "    fig.message.textContent = msg['message'];\n",
       "};\n",
       "\n",
       "mpl.figure.prototype.handle_draw = function (fig, _msg) {\n",
       "    // Request the server to send over a new figure.\n",
       "    fig.send_draw_message();\n",
       "};\n",
       "\n",
       "mpl.figure.prototype.handle_image_mode = function (fig, msg) {\n",
       "    fig.image_mode = msg['mode'];\n",
       "};\n",
       "\n",
       "mpl.figure.prototype.handle_history_buttons = function (fig, msg) {\n",
       "    for (var key in msg) {\n",
       "        if (!(key in fig.buttons)) {\n",
       "            continue;\n",
       "        }\n",
       "        fig.buttons[key].disabled = !msg[key];\n",
       "        fig.buttons[key].setAttribute('aria-disabled', !msg[key]);\n",
       "    }\n",
       "};\n",
       "\n",
       "mpl.figure.prototype.handle_navigate_mode = function (fig, msg) {\n",
       "    if (msg['mode'] === 'PAN') {\n",
       "        fig.buttons['Pan'].classList.add('active');\n",
       "        fig.buttons['Zoom'].classList.remove('active');\n",
       "    } else if (msg['mode'] === 'ZOOM') {\n",
       "        fig.buttons['Pan'].classList.remove('active');\n",
       "        fig.buttons['Zoom'].classList.add('active');\n",
       "    } else {\n",
       "        fig.buttons['Pan'].classList.remove('active');\n",
       "        fig.buttons['Zoom'].classList.remove('active');\n",
       "    }\n",
       "};\n",
       "\n",
       "mpl.figure.prototype.updated_canvas_event = function () {\n",
       "    // Called whenever the canvas gets updated.\n",
       "    this.send_message('ack', {});\n",
       "};\n",
       "\n",
       "// A function to construct a web socket function for onmessage handling.\n",
       "// Called in the figure constructor.\n",
       "mpl.figure.prototype._make_on_message_function = function (fig) {\n",
       "    return function socket_on_message(evt) {\n",
       "        if (evt.data instanceof Blob) {\n",
       "            var img = evt.data;\n",
       "            if (img.type !== 'image/png') {\n",
       "                /* FIXME: We get \"Resource interpreted as Image but\n",
       "                 * transferred with MIME type text/plain:\" errors on\n",
       "                 * Chrome.  But how to set the MIME type?  It doesn't seem\n",
       "                 * to be part of the websocket stream */\n",
       "                img.type = 'image/png';\n",
       "            }\n",
       "\n",
       "            /* Free the memory for the previous frames */\n",
       "            if (fig.imageObj.src) {\n",
       "                (window.URL || window.webkitURL).revokeObjectURL(\n",
       "                    fig.imageObj.src\n",
       "                );\n",
       "            }\n",
       "\n",
       "            fig.imageObj.src = (window.URL || window.webkitURL).createObjectURL(\n",
       "                img\n",
       "            );\n",
       "            fig.updated_canvas_event();\n",
       "            fig.waiting = false;\n",
       "            return;\n",
       "        } else if (\n",
       "            typeof evt.data === 'string' &&\n",
       "            evt.data.slice(0, 21) === 'data:image/png;base64'\n",
       "        ) {\n",
       "            fig.imageObj.src = evt.data;\n",
       "            fig.updated_canvas_event();\n",
       "            fig.waiting = false;\n",
       "            return;\n",
       "        }\n",
       "\n",
       "        var msg = JSON.parse(evt.data);\n",
       "        var msg_type = msg['type'];\n",
       "\n",
       "        // Call the  \"handle_{type}\" callback, which takes\n",
       "        // the figure and JSON message as its only arguments.\n",
       "        try {\n",
       "            var callback = fig['handle_' + msg_type];\n",
       "        } catch (e) {\n",
       "            console.log(\n",
       "                \"No handler for the '\" + msg_type + \"' message type: \",\n",
       "                msg\n",
       "            );\n",
       "            return;\n",
       "        }\n",
       "\n",
       "        if (callback) {\n",
       "            try {\n",
       "                // console.log(\"Handling '\" + msg_type + \"' message: \", msg);\n",
       "                callback(fig, msg);\n",
       "            } catch (e) {\n",
       "                console.log(\n",
       "                    \"Exception inside the 'handler_\" + msg_type + \"' callback:\",\n",
       "                    e,\n",
       "                    e.stack,\n",
       "                    msg\n",
       "                );\n",
       "            }\n",
       "        }\n",
       "    };\n",
       "};\n",
       "\n",
       "// from https://stackoverflow.com/questions/1114465/getting-mouse-location-in-canvas\n",
       "mpl.findpos = function (e) {\n",
       "    //this section is from http://www.quirksmode.org/js/events_properties.html\n",
       "    var targ;\n",
       "    if (!e) {\n",
       "        e = window.event;\n",
       "    }\n",
       "    if (e.target) {\n",
       "        targ = e.target;\n",
       "    } else if (e.srcElement) {\n",
       "        targ = e.srcElement;\n",
       "    }\n",
       "    if (targ.nodeType === 3) {\n",
       "        // defeat Safari bug\n",
       "        targ = targ.parentNode;\n",
       "    }\n",
       "\n",
       "    // pageX,Y are the mouse positions relative to the document\n",
       "    var boundingRect = targ.getBoundingClientRect();\n",
       "    var x = e.pageX - (boundingRect.left + document.body.scrollLeft);\n",
       "    var y = e.pageY - (boundingRect.top + document.body.scrollTop);\n",
       "\n",
       "    return { x: x, y: y };\n",
       "};\n",
       "\n",
       "/*\n",
       " * return a copy of an object with only non-object keys\n",
       " * we need this to avoid circular references\n",
       " * https://stackoverflow.com/a/24161582/3208463\n",
       " */\n",
       "function simpleKeys(original) {\n",
       "    return Object.keys(original).reduce(function (obj, key) {\n",
       "        if (typeof original[key] !== 'object') {\n",
       "            obj[key] = original[key];\n",
       "        }\n",
       "        return obj;\n",
       "    }, {});\n",
       "}\n",
       "\n",
       "mpl.figure.prototype.mouse_event = function (event, name) {\n",
       "    var canvas_pos = mpl.findpos(event);\n",
       "\n",
       "    if (name === 'button_press') {\n",
       "        this.canvas.focus();\n",
       "        this.canvas_div.focus();\n",
       "    }\n",
       "\n",
       "    var x = canvas_pos.x * this.ratio;\n",
       "    var y = canvas_pos.y * this.ratio;\n",
       "\n",
       "    this.send_message(name, {\n",
       "        x: x,\n",
       "        y: y,\n",
       "        button: event.button,\n",
       "        step: event.step,\n",
       "        guiEvent: simpleKeys(event),\n",
       "    });\n",
       "\n",
       "    /* This prevents the web browser from automatically changing to\n",
       "     * the text insertion cursor when the button is pressed.  We want\n",
       "     * to control all of the cursor setting manually through the\n",
       "     * 'cursor' event from matplotlib */\n",
       "    event.preventDefault();\n",
       "    return false;\n",
       "};\n",
       "\n",
       "mpl.figure.prototype._key_event_extra = function (_event, _name) {\n",
       "    // Handle any extra behaviour associated with a key event\n",
       "};\n",
       "\n",
       "mpl.figure.prototype.key_event = function (event, name) {\n",
       "    // Prevent repeat events\n",
       "    if (name === 'key_press') {\n",
       "        if (event.key === this._key) {\n",
       "            return;\n",
       "        } else {\n",
       "            this._key = event.key;\n",
       "        }\n",
       "    }\n",
       "    if (name === 'key_release') {\n",
       "        this._key = null;\n",
       "    }\n",
       "\n",
       "    var value = '';\n",
       "    if (event.ctrlKey && event.key !== 'Control') {\n",
       "        value += 'ctrl+';\n",
       "    }\n",
       "    else if (event.altKey && event.key !== 'Alt') {\n",
       "        value += 'alt+';\n",
       "    }\n",
       "    else if (event.shiftKey && event.key !== 'Shift') {\n",
       "        value += 'shift+';\n",
       "    }\n",
       "\n",
       "    value += 'k' + event.key;\n",
       "\n",
       "    this._key_event_extra(event, name);\n",
       "\n",
       "    this.send_message(name, { key: value, guiEvent: simpleKeys(event) });\n",
       "    return false;\n",
       "};\n",
       "\n",
       "mpl.figure.prototype.toolbar_button_onclick = function (name) {\n",
       "    if (name === 'download') {\n",
       "        this.handle_save(this, null);\n",
       "    } else {\n",
       "        this.send_message('toolbar_button', { name: name });\n",
       "    }\n",
       "};\n",
       "\n",
       "mpl.figure.prototype.toolbar_button_onmouseover = function (tooltip) {\n",
       "    this.message.textContent = tooltip;\n",
       "};\n",
       "\n",
       "///////////////// REMAINING CONTENT GENERATED BY embed_js.py /////////////////\n",
       "// prettier-ignore\n",
       "var _JSXTOOLS_RESIZE_OBSERVER=function(A){var t,i=new WeakMap,n=new WeakMap,a=new WeakMap,r=new WeakMap,o=new Set;function s(e){if(!(this instanceof s))throw new TypeError(\"Constructor requires 'new' operator\");i.set(this,e)}function h(){throw new TypeError(\"Function is not a constructor\")}function c(e,t,i,n){e=0 in arguments?Number(arguments[0]):0,t=1 in arguments?Number(arguments[1]):0,i=2 in arguments?Number(arguments[2]):0,n=3 in arguments?Number(arguments[3]):0,this.right=(this.x=this.left=e)+(this.width=i),this.bottom=(this.y=this.top=t)+(this.height=n),Object.freeze(this)}function d(){t=requestAnimationFrame(d);var s=new WeakMap,p=new Set;o.forEach((function(t){r.get(t).forEach((function(i){var r=t instanceof window.SVGElement,o=a.get(t),d=r?0:parseFloat(o.paddingTop),f=r?0:parseFloat(o.paddingRight),l=r?0:parseFloat(o.paddingBottom),u=r?0:parseFloat(o.paddingLeft),g=r?0:parseFloat(o.borderTopWidth),m=r?0:parseFloat(o.borderRightWidth),w=r?0:parseFloat(o.borderBottomWidth),b=u+f,F=d+l,v=(r?0:parseFloat(o.borderLeftWidth))+m,W=g+w,y=r?0:t.offsetHeight-W-t.clientHeight,E=r?0:t.offsetWidth-v-t.clientWidth,R=b+v,z=F+W,M=r?t.width:parseFloat(o.width)-R-E,O=r?t.height:parseFloat(o.height)-z-y;if(n.has(t)){var k=n.get(t);if(k[0]===M&&k[1]===O)return}n.set(t,[M,O]);var S=Object.create(h.prototype);S.target=t,S.contentRect=new c(u,d,M,O),s.has(i)||(s.set(i,[]),p.add(i)),s.get(i).push(S)}))})),p.forEach((function(e){i.get(e).call(e,s.get(e),e)}))}return s.prototype.observe=function(i){if(i instanceof window.Element){r.has(i)||(r.set(i,new Set),o.add(i),a.set(i,window.getComputedStyle(i)));var n=r.get(i);n.has(this)||n.add(this),cancelAnimationFrame(t),t=requestAnimationFrame(d)}},s.prototype.unobserve=function(i){if(i instanceof window.Element&&r.has(i)){var n=r.get(i);n.has(this)&&(n.delete(this),n.size||(r.delete(i),o.delete(i))),n.size||r.delete(i),o.size||cancelAnimationFrame(t)}},A.DOMRectReadOnly=c,A.ResizeObserver=s,A.ResizeObserverEntry=h,A}; // eslint-disable-line\n",
       "mpl.toolbar_items = [[\"Home\", \"Reset original view\", \"fa fa-home icon-home\", \"home\"], [\"Back\", \"Back to previous view\", \"fa fa-arrow-left icon-arrow-left\", \"back\"], [\"Forward\", \"Forward to next view\", \"fa fa-arrow-right icon-arrow-right\", \"forward\"], [\"\", \"\", \"\", \"\"], [\"Pan\", \"Left button pans, Right button zooms\\nx/y fixes axis, CTRL fixes aspect\", \"fa fa-arrows icon-move\", \"pan\"], [\"Zoom\", \"Zoom to rectangle\\nx/y fixes axis\", \"fa fa-square-o icon-check-empty\", \"zoom\"], [\"\", \"\", \"\", \"\"], [\"Download\", \"Download plot\", \"fa fa-floppy-o icon-save\", \"download\"]];\n",
       "\n",
       "mpl.extensions = [\"eps\", \"jpeg\", \"pgf\", \"pdf\", \"png\", \"ps\", \"raw\", \"svg\", \"tif\"];\n",
       "\n",
       "mpl.default_extension = \"png\";/* global mpl */\n",
       "\n",
       "var comm_websocket_adapter = function (comm) {\n",
       "    // Create a \"websocket\"-like object which calls the given IPython comm\n",
       "    // object with the appropriate methods. Currently this is a non binary\n",
       "    // socket, so there is still some room for performance tuning.\n",
       "    var ws = {};\n",
       "\n",
       "    ws.binaryType = comm.kernel.ws.binaryType;\n",
       "    ws.readyState = comm.kernel.ws.readyState;\n",
       "    function updateReadyState(_event) {\n",
       "        if (comm.kernel.ws) {\n",
       "            ws.readyState = comm.kernel.ws.readyState;\n",
       "        } else {\n",
       "            ws.readyState = 3; // Closed state.\n",
       "        }\n",
       "    }\n",
       "    comm.kernel.ws.addEventListener('open', updateReadyState);\n",
       "    comm.kernel.ws.addEventListener('close', updateReadyState);\n",
       "    comm.kernel.ws.addEventListener('error', updateReadyState);\n",
       "\n",
       "    ws.close = function () {\n",
       "        comm.close();\n",
       "    };\n",
       "    ws.send = function (m) {\n",
       "        //console.log('sending', m);\n",
       "        comm.send(m);\n",
       "    };\n",
       "    // Register the callback with on_msg.\n",
       "    comm.on_msg(function (msg) {\n",
       "        //console.log('receiving', msg['content']['data'], msg);\n",
       "        var data = msg['content']['data'];\n",
       "        if (data['blob'] !== undefined) {\n",
       "            data = {\n",
       "                data: new Blob(msg['buffers'], { type: data['blob'] }),\n",
       "            };\n",
       "        }\n",
       "        // Pass the mpl event to the overridden (by mpl) onmessage function.\n",
       "        ws.onmessage(data);\n",
       "    });\n",
       "    return ws;\n",
       "};\n",
       "\n",
       "mpl.mpl_figure_comm = function (comm, msg) {\n",
       "    // This is the function which gets called when the mpl process\n",
       "    // starts-up an IPython Comm through the \"matplotlib\" channel.\n",
       "\n",
       "    var id = msg.content.data.id;\n",
       "    // Get hold of the div created by the display call when the Comm\n",
       "    // socket was opened in Python.\n",
       "    var element = document.getElementById(id);\n",
       "    var ws_proxy = comm_websocket_adapter(comm);\n",
       "\n",
       "    function ondownload(figure, _format) {\n",
       "        window.open(figure.canvas.toDataURL());\n",
       "    }\n",
       "\n",
       "    var fig = new mpl.figure(id, ws_proxy, ondownload, element);\n",
       "\n",
       "    // Call onopen now - mpl needs it, as it is assuming we've passed it a real\n",
       "    // web socket which is closed, not our websocket->open comm proxy.\n",
       "    ws_proxy.onopen();\n",
       "\n",
       "    fig.parent_element = element;\n",
       "    fig.cell_info = mpl.find_output_cell(\"<div id='\" + id + \"'></div>\");\n",
       "    if (!fig.cell_info) {\n",
       "        console.error('Failed to find cell for figure', id, fig);\n",
       "        return;\n",
       "    }\n",
       "    fig.cell_info[0].output_area.element.on(\n",
       "        'cleared',\n",
       "        { fig: fig },\n",
       "        fig._remove_fig_handler\n",
       "    );\n",
       "};\n",
       "\n",
       "mpl.figure.prototype.handle_close = function (fig, msg) {\n",
       "    var width = fig.canvas.width / fig.ratio;\n",
       "    fig.cell_info[0].output_area.element.off(\n",
       "        'cleared',\n",
       "        fig._remove_fig_handler\n",
       "    );\n",
       "    fig.resizeObserverInstance.unobserve(fig.canvas_div);\n",
       "\n",
       "    // Update the output cell to use the data from the current canvas.\n",
       "    fig.push_to_output();\n",
       "    var dataURL = fig.canvas.toDataURL();\n",
       "    // Re-enable the keyboard manager in IPython - without this line, in FF,\n",
       "    // the notebook keyboard shortcuts fail.\n",
       "    IPython.keyboard_manager.enable();\n",
       "    fig.parent_element.innerHTML =\n",
       "        '<img src=\"' + dataURL + '\" width=\"' + width + '\">';\n",
       "    fig.close_ws(fig, msg);\n",
       "};\n",
       "\n",
       "mpl.figure.prototype.close_ws = function (fig, msg) {\n",
       "    fig.send_message('closing', msg);\n",
       "    // fig.ws.close()\n",
       "};\n",
       "\n",
       "mpl.figure.prototype.push_to_output = function (_remove_interactive) {\n",
       "    // Turn the data on the canvas into data in the output cell.\n",
       "    var width = this.canvas.width / this.ratio;\n",
       "    var dataURL = this.canvas.toDataURL();\n",
       "    this.cell_info[1]['text/html'] =\n",
       "        '<img src=\"' + dataURL + '\" width=\"' + width + '\">';\n",
       "};\n",
       "\n",
       "mpl.figure.prototype.updated_canvas_event = function () {\n",
       "    // Tell IPython that the notebook contents must change.\n",
       "    IPython.notebook.set_dirty(true);\n",
       "    this.send_message('ack', {});\n",
       "    var fig = this;\n",
       "    // Wait a second, then push the new image to the DOM so\n",
       "    // that it is saved nicely (might be nice to debounce this).\n",
       "    setTimeout(function () {\n",
       "        fig.push_to_output();\n",
       "    }, 1000);\n",
       "};\n",
       "\n",
       "mpl.figure.prototype._init_toolbar = function () {\n",
       "    var fig = this;\n",
       "\n",
       "    var toolbar = document.createElement('div');\n",
       "    toolbar.classList = 'btn-toolbar';\n",
       "    this.root.appendChild(toolbar);\n",
       "\n",
       "    function on_click_closure(name) {\n",
       "        return function (_event) {\n",
       "            return fig.toolbar_button_onclick(name);\n",
       "        };\n",
       "    }\n",
       "\n",
       "    function on_mouseover_closure(tooltip) {\n",
       "        return function (event) {\n",
       "            if (!event.currentTarget.disabled) {\n",
       "                return fig.toolbar_button_onmouseover(tooltip);\n",
       "            }\n",
       "        };\n",
       "    }\n",
       "\n",
       "    fig.buttons = {};\n",
       "    var buttonGroup = document.createElement('div');\n",
       "    buttonGroup.classList = 'btn-group';\n",
       "    var button;\n",
       "    for (var toolbar_ind in mpl.toolbar_items) {\n",
       "        var name = mpl.toolbar_items[toolbar_ind][0];\n",
       "        var tooltip = mpl.toolbar_items[toolbar_ind][1];\n",
       "        var image = mpl.toolbar_items[toolbar_ind][2];\n",
       "        var method_name = mpl.toolbar_items[toolbar_ind][3];\n",
       "\n",
       "        if (!name) {\n",
       "            /* Instead of a spacer, we start a new button group. */\n",
       "            if (buttonGroup.hasChildNodes()) {\n",
       "                toolbar.appendChild(buttonGroup);\n",
       "            }\n",
       "            buttonGroup = document.createElement('div');\n",
       "            buttonGroup.classList = 'btn-group';\n",
       "            continue;\n",
       "        }\n",
       "\n",
       "        button = fig.buttons[name] = document.createElement('button');\n",
       "        button.classList = 'btn btn-default';\n",
       "        button.href = '#';\n",
       "        button.title = name;\n",
       "        button.innerHTML = '<i class=\"fa ' + image + ' fa-lg\"></i>';\n",
       "        button.addEventListener('click', on_click_closure(method_name));\n",
       "        button.addEventListener('mouseover', on_mouseover_closure(tooltip));\n",
       "        buttonGroup.appendChild(button);\n",
       "    }\n",
       "\n",
       "    if (buttonGroup.hasChildNodes()) {\n",
       "        toolbar.appendChild(buttonGroup);\n",
       "    }\n",
       "\n",
       "    // Add the status bar.\n",
       "    var status_bar = document.createElement('span');\n",
       "    status_bar.classList = 'mpl-message pull-right';\n",
       "    toolbar.appendChild(status_bar);\n",
       "    this.message = status_bar;\n",
       "\n",
       "    // Add the close button to the window.\n",
       "    var buttongrp = document.createElement('div');\n",
       "    buttongrp.classList = 'btn-group inline pull-right';\n",
       "    button = document.createElement('button');\n",
       "    button.classList = 'btn btn-mini btn-primary';\n",
       "    button.href = '#';\n",
       "    button.title = 'Stop Interaction';\n",
       "    button.innerHTML = '<i class=\"fa fa-power-off icon-remove icon-large\"></i>';\n",
       "    button.addEventListener('click', function (_evt) {\n",
       "        fig.handle_close(fig, {});\n",
       "    });\n",
       "    button.addEventListener(\n",
       "        'mouseover',\n",
       "        on_mouseover_closure('Stop Interaction')\n",
       "    );\n",
       "    buttongrp.appendChild(button);\n",
       "    var titlebar = this.root.querySelector('.ui-dialog-titlebar');\n",
       "    titlebar.insertBefore(buttongrp, titlebar.firstChild);\n",
       "};\n",
       "\n",
       "mpl.figure.prototype._remove_fig_handler = function (event) {\n",
       "    var fig = event.data.fig;\n",
       "    if (event.target !== this) {\n",
       "        // Ignore bubbled events from children.\n",
       "        return;\n",
       "    }\n",
       "    fig.close_ws(fig, {});\n",
       "};\n",
       "\n",
       "mpl.figure.prototype._root_extra_style = function (el) {\n",
       "    el.style.boxSizing = 'content-box'; // override notebook setting of border-box.\n",
       "};\n",
       "\n",
       "mpl.figure.prototype._canvas_extra_style = function (el) {\n",
       "    // this is important to make the div 'focusable\n",
       "    el.setAttribute('tabindex', 0);\n",
       "    // reach out to IPython and tell the keyboard manager to turn it's self\n",
       "    // off when our div gets focus\n",
       "\n",
       "    // location in version 3\n",
       "    if (IPython.notebook.keyboard_manager) {\n",
       "        IPython.notebook.keyboard_manager.register_events(el);\n",
       "    } else {\n",
       "        // location in version 2\n",
       "        IPython.keyboard_manager.register_events(el);\n",
       "    }\n",
       "};\n",
       "\n",
       "mpl.figure.prototype._key_event_extra = function (event, _name) {\n",
       "    // Check for shift+enter\n",
       "    if (event.shiftKey && event.which === 13) {\n",
       "        this.canvas_div.blur();\n",
       "        // select the cell after this one\n",
       "        var index = IPython.notebook.find_cell_index(this.cell_info[0]);\n",
       "        IPython.notebook.select(index + 1);\n",
       "    }\n",
       "};\n",
       "\n",
       "mpl.figure.prototype.handle_save = function (fig, _msg) {\n",
       "    fig.ondownload(fig, null);\n",
       "};\n",
       "\n",
       "mpl.find_output_cell = function (html_output) {\n",
       "    // Return the cell and output element which can be found *uniquely* in the notebook.\n",
       "    // Note - this is a bit hacky, but it is done because the \"notebook_saving.Notebook\"\n",
       "    // IPython event is triggered only after the cells have been serialised, which for\n",
       "    // our purposes (turning an active figure into a static one), is too late.\n",
       "    var cells = IPython.notebook.get_cells();\n",
       "    var ncells = cells.length;\n",
       "    for (var i = 0; i < ncells; i++) {\n",
       "        var cell = cells[i];\n",
       "        if (cell.cell_type === 'code') {\n",
       "            for (var j = 0; j < cell.output_area.outputs.length; j++) {\n",
       "                var data = cell.output_area.outputs[j];\n",
       "                if (data.data) {\n",
       "                    // IPython >= 3 moved mimebundle to data attribute of output\n",
       "                    data = data.data;\n",
       "                }\n",
       "                if (data['text/html'] === html_output) {\n",
       "                    return [cell, data, j];\n",
       "                }\n",
       "            }\n",
       "        }\n",
       "    }\n",
       "};\n",
       "\n",
       "// Register the function which deals with the matplotlib target/channel.\n",
       "// The kernel may be null if the page has been refreshed.\n",
       "if (IPython.notebook.kernel !== null) {\n",
       "    IPython.notebook.kernel.comm_manager.register_target(\n",
       "        'matplotlib',\n",
       "        mpl.mpl_figure_comm\n",
       "    );\n",
       "}\n"
      ],
      "text/plain": [
       "<IPython.core.display.Javascript object>"
      ]
     },
     "metadata": {},
     "output_type": "display_data"
    },
    {
     "data": {
      "text/html": [
       "<img src=\"data:image/png;base64,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\" width=\"719.9999843944206\">"
      ],
      "text/plain": [
       "<IPython.core.display.HTML object>"
      ]
     },
     "metadata": {},
     "output_type": "display_data"
    },
    {
     "data": {
      "application/vnd.jupyter.widget-view+json": {
       "model_id": "beb7e0d8378b49b8bc71ed26efb36deb",
       "version_major": 2,
       "version_minor": 0
      },
      "text/plain": [
       "interactive(children=(FloatSlider(value=1.0, description='entl', max=2.0, min=-1.0), Output()), _dom_classes=(…"
      ]
     },
     "metadata": {},
     "output_type": "display_data"
    },
    {
     "data": {
      "text/plain": [
       "<function __main__.update(entl=1.0)>"
      ]
     },
     "execution_count": 208,
     "metadata": {},
     "output_type": "execute_result"
    }
   ],
   "source": [
    "%matplotlib notebook\n",
    "from ipywidgets import *\n",
    "\n",
    "\n",
    "def cnt_occ(l):\n",
    "    d = [0] * 101\n",
    "    for x in l:\n",
    "        if x <= 100:\n",
    "            d[x] += 1\n",
    "    return d\n",
    "\n",
    "# Create the figure and the line that we will manipulate\n",
    "fig = plt.figure()\n",
    "ax = fig.add_subplot(1, 1, 1)\n",
    "\n",
    "p_skill = compute_skill_distrib(seq)\n",
    "\n",
    "line, = ax.plot(\n",
    "    list(range(101)),\n",
    "    cnt_occ(list(map(len, filter(lambda x: entropy(x, p_skill) < 10, seq.values()))))\n",
    ")\n",
    "ax.set_xlabel('Length')\n",
    "\n",
    "def update(entl=1.0):\n",
    "    line.set_ydata(\n",
    "        cnt_occ(list(map(len, filter(lambda x: entropy(x, p_skill) < 10 ** entl, seq.values()))))\n",
    "    )\n",
    "    fig.canvas.draw_idle()\n",
    "\n",
    "interact(update, entl=widgets.FloatSlider(min=-1, max=2, step=0.1, value=1))"
   ]
  },
  {
   "cell_type": "code",
   "execution_count": 25,
   "id": "fbfa8b3c",
   "metadata": {},
   "outputs": [
    {
     "data": {
      "text/plain": [
       "(1.0003465934048836, 0.30102999566398114)"
      ]
     },
     "execution_count": 25,
     "metadata": {},
     "output_type": "execute_result"
    }
   ],
   "source": [
    "entropy_limit = log2(len(seq) / df_train['user'].nunique())\n",
    "\n",
    "entropy_limit, log(2) / log(10)"
   ]
  },
  {
   "cell_type": "code",
   "execution_count": 29,
   "id": "b70c957d",
   "metadata": {
    "scrolled": false
   },
   "outputs": [
    {
     "ename": "NameError",
     "evalue": "name 'roc_data' is not defined",
     "output_type": "error",
     "traceback": [
      "\u001b[0;31m---------------------------------------------------------------------------\u001b[0m",
      "\u001b[0;31mNameError\u001b[0m                                 Traceback (most recent call last)",
      "Input \u001b[0;32mIn [29]\u001b[0m, in \u001b[0;36m<module>\u001b[0;34m\u001b[0m\n\u001b[1;32m      7\u001b[0m plt\u001b[38;5;241m.\u001b[39mxlabel(\u001b[38;5;124m'\u001b[39m\u001b[38;5;124mFalse Positive Rate\u001b[39m\u001b[38;5;124m'\u001b[39m)\n\u001b[1;32m      8\u001b[0m plt\u001b[38;5;241m.\u001b[39mylabel(\u001b[38;5;124m'\u001b[39m\u001b[38;5;124mTrue Positive Rate\u001b[39m\u001b[38;5;124m'\u001b[39m)\n\u001b[0;32m---> 10\u001b[0m \u001b[38;5;28;01mfor\u001b[39;00m p \u001b[38;5;129;01min\u001b[39;00m \u001b[43mroc_data\u001b[49m\u001b[38;5;241m.\u001b[39mkeys():\n\u001b[1;32m     11\u001b[0m     (fpr, tpr, _) \u001b[38;5;241m=\u001b[39m roc_data[p]\n\u001b[1;32m     12\u001b[0m     roc_auc \u001b[38;5;241m=\u001b[39m metrics\u001b[38;5;241m.\u001b[39mauc(fpr, tpr)\n",
      "\u001b[0;31mNameError\u001b[0m: name 'roc_data' is not defined"
     ]
    },
    {
     "data": {
      "image/png": "[encoded data removed]",
      "text/plain": [
       "<Figure size 720x720 with 1 Axes>"
      ]
     },
     "metadata": {
      "needs_background": "light"
     },
     "output_type": "display_data"
    }
   ],
   "source": [
    "%matplotlib inline\n",
    "import matplotlib.pyplot as plt\n",
    "from sklearn import metrics\n",
    "\n",
    "plt.rcParams['figure.figsize'] = [10, 10]\n",
    "plt.rcParams['font.family'] = 'monospace'\n",
    "plt.xlabel('False Positive Rate')\n",
    "plt.ylabel('True Positive Rate')\n",
    "\n",
    "for p in roc_data.keys():\n",
    "    (fpr, tpr, _) = roc_data[p]\n",
    "    roc_auc = metrics.auc(fpr, tpr)\n",
    "    print(f'{p}: {roc_auc:.3f}')\n",
    "    plt.plot(fpr, tpr, label=f'drop = {p:<5} (AUC = {roc_auc:.5f})')\n",
    "\n",
    "plt.legend()"
   ]
  },
  {
   "cell_type": "code",
   "execution_count": 256,
   "id": "93f77eaf",
   "metadata": {},
   "outputs": [
    {
     "data": {
      "text/plain": [
       "<matplotlib.legend.Legend at 0x7ff36382ddb0>"
      ]
     },
     "execution_count": 256,
     "metadata": {},
     "output_type": "execute_result"
    },
    {
     "data": {
      "image/png": "[encoded data removed]",
      "text/plain": [
       "<Figure size 720x720 with 1 Axes>"
      ]
     },
     "metadata": {
      "needs_background": "light"
     },
     "output_type": "display_data"
    }
   ],
   "source": [
    "plt.rcParams['figure.figsize'] = [10, 10]\n",
    "plt.rcParams['font.family'] = 'monospace'\n",
    "plt.xlabel('False Positive Rate')\n",
    "plt.ylabel('True Positive Rate')\n",
    "\n",
    "for spread in roc_data_comb.keys():\n",
    "    (fpr, tpr, _) = roc_data_comb[spread]\n",
    "    roc_auc = metrics.auc(fpr, tpr)\n",
    "    plt.plot(fpr, tpr, label=f'spread = {spread:<5} (AUC = {roc_auc:.5f})')\n",
    "\n",
    "plt.legend()"
   ]
  },
  {
   "cell_type": "code",
   "execution_count": 26,
   "id": "f8d2a831",
   "metadata": {},
   "outputs": [],
   "source": [
    "import re\n",
    "\n",
    "aucs = []\n",
    "X_aucs = []\n",
    "for name in sorted(score_roc_data.keys()):\n",
    "    (fpr, tpr, _) = score_roc_data[name]\n",
    "    roc_auc = metrics.auc(fpr, tpr)\n",
    "    aucs.append(roc_auc)\n",
    "    X_aucs.append(float(re.findall(r\"[-+]?(?:\\d*\\.\\d+|\\d+)\", name)[0]))"
   ]
  },
  {
   "cell_type": "code",
   "execution_count": 27,
   "id": "9923b4a3",
   "metadata": {},
   "outputs": [
    {
     "data": {
      "text/plain": [
       "[<matplotlib.lines.Line2D at 0x7ff3cddb8d60>]"
      ]
     },
     "execution_count": 27,
     "metadata": {},
     "output_type": "execute_result"
    },
    {
     "data": {
      "image/png": "[encoded data removed]",
      "text/plain": [
       "<Figure size 720x720 with 1 Axes>"
      ]
     },
     "metadata": {
      "needs_background": "light"
     },
     "output_type": "display_data"
    }
   ],
   "source": [
    "plt.plot(X_aucs, aucs, '.')"
   ]
  },
  {
   "cell_type": "code",
   "execution_count": 247,
   "id": "efaa08e7",
   "metadata": {},
   "outputs": [
    {
     "data": {
      "text/plain": [
       "<matplotlib.legend.Legend at 0x7ff36753f430>"
      ]
     },
     "execution_count": 247,
     "metadata": {},
     "output_type": "execute_result"
    },
    {
     "data": {
      "image/png": "[encoded data removed]",
      "text/plain": [
       "<Figure size 720x720 with 1 Axes>"
      ]
     },
     "metadata": {
      "needs_background": "light"
     },
     "output_type": "display_data"
    }
   ],
   "source": [
    "plt.rcParams['figure.figsize'] = [10, 10]\n",
    "plt.rcParams['font.family'] = 'monospace'\n",
    "plt.xlabel('False Positive Rate')\n",
    "plt.ylabel('True Positive Rate')\n",
    "\n",
    "# for name in sorted(list(filter(lambda name: len(name) > 10 and name[7] == 'a', list(score_roc_data.keys())))):\n",
    "for name in sorted(score_roc_data.keys()):\n",
    "    (fpr, tpr, _) = score_roc_data[name]\n",
    "    roc_auc = metrics.auc(fpr, tpr)\n",
    "    if roc_auc > 0.57:\n",
    "        plt.plot(fpr, tpr, label=f'{name} (AUC = {roc_auc:.5f})')\n",
    "\n",
    "plt.legend()"
   ]
  },
  {
   "cell_type": "code",
   "execution_count": 29,
   "id": "4eeb8350",
   "metadata": {},
   "outputs": [],
   "source": [
    "lengths = np.array([len(s) for s in seq.values() if len(s)])"
   ]
  },
  {
   "cell_type": "code",
   "execution_count": 30,
   "id": "cd60c0af",
   "metadata": {
    "scrolled": false
   },
   "outputs": [
    {
     "data": {
      "text/plain": [
       "((array([311., 208., 293., 266.,  89., 260., 162., 185., 140., 139.]),\n",
       "  array([ 1. ,  2.8,  4.6,  6.4,  8.2, 10. , 11.8, 13.6, 15.4, 17.2, 19. ]),\n",
       "  <BarContainer object of 10 artists>),\n",
       " 2053)"
      ]
     },
     "execution_count": 30,
     "metadata": {},
     "output_type": "execute_result"
    },
    {
     "data": {
      "image/png": "[encoded data removed]",
      "text/plain": [
       "<Figure size 720x720 with 1 Axes>"
      ]
     },
     "metadata": {
      "needs_background": "light"
     },
     "output_type": "display_data"
    }
   ],
   "source": [
    "plt.hist(lengths[lengths < 20]), len(lengths[lengths < 20])"
   ]
  },
  {
   "cell_type": "code",
   "execution_count": 94,
   "id": "6925003e",
   "metadata": {},
   "outputs": [],
   "source": [
    "# df_train.to_csv(f'data/assistments2009train.csv', index=False)\n",
    "if True:\n",
    "    for drop in [0, 0.25, 0.5, 0.75, 0.99, 0.999]:\n",
    "        if duolingo:\n",
    "            anonymize(df_train, p=drop).to_csv(f'data/duolingo_train/gen-drop{drop}.csv', index=False)\n",
    "        else:\n",
    "            anonymize(df_train, p=drop).to_csv(f'data/assistments2009train-drop{drop}.csv', index=False)"
   ]
  },
  {
   "cell_type": "code",
   "execution_count": 52,
   "id": "85fca1d2",
   "metadata": {},
   "outputs": [],
   "source": [
    "if duolingo:\n",
    "    data_path_rnn = 'data/duolingo_train/gen-bsl-500-2-32-0.001-0-16-0-laststep.csv'\n",
    "    data_path_hmm = 'data/duolingo_train/gen-jjv-markov.csv'\n",
    "else:\n",
    "    data_path_rnn = 'data/assistments2009_train/gen-bsl-200-2-16-0.003-1-64-0.csv'\n",
    "    data_path_hmm = 'data/assistments2009_train/gen-jjv-markov.csv'"
   ]
  },
  {
   "cell_type": "code",
   "execution_count": 53,
   "id": "df085118",
   "metadata": {},
   "outputs": [],
   "source": [
    "df_rnn = pd.read_csv(data_path_rnn)\n",
    "df_hmm = pd.read_csv(data_path_hmm)"
   ]
  },
  {
   "cell_type": "code",
   "execution_count": 54,
   "id": "cd9c1f62",
   "metadata": {},
   "outputs": [
    {
     "data": {
      "text/html": [
       "<div>\n",
       "<style scoped>\n",
       "    .dataframe tbody tr th:only-of-type {\n",
       "        vertical-align: middle;\n",
       "    }\n",
       "\n",
       "    .dataframe tbody tr th {\n",
       "        vertical-align: top;\n",
       "    }\n",
       "\n",
       "    .dataframe thead th {\n",
       "        text-align: right;\n",
       "    }\n",
       "</style>\n",
       "<table border=\"1\" class=\"dataframe\">\n",
       "  <thead>\n",
       "    <tr style=\"text-align: right;\">\n",
       "      <th></th>\n",
       "      <th>user</th>\n",
       "      <th>skill_id</th>\n",
       "      <th>skill</th>\n",
       "      <th>correct</th>\n",
       "      <th>theta</th>\n",
       "    </tr>\n",
       "  </thead>\n",
       "  <tbody>\n",
       "    <tr>\n",
       "      <th>0</th>\n",
       "      <td>0</td>\n",
       "      <td>34</td>\n",
       "      <td>38</td>\n",
       "      <td>1</td>\n",
       "      <td>-0.645603</td>\n",
       "    </tr>\n",
       "    <tr>\n",
       "      <th>1</th>\n",
       "      <td>0</td>\n",
       "      <td>3</td>\n",
       "      <td>4</td>\n",
       "      <td>0</td>\n",
       "      <td>-0.645603</td>\n",
       "    </tr>\n",
       "    <tr>\n",
       "      <th>2</th>\n",
       "      <td>0</td>\n",
       "      <td>3</td>\n",
       "      <td>4</td>\n",
       "      <td>0</td>\n",
       "      <td>-0.645603</td>\n",
       "    </tr>\n",
       "    <tr>\n",
       "      <th>3</th>\n",
       "      <td>0</td>\n",
       "      <td>27</td>\n",
       "      <td>30</td>\n",
       "      <td>1</td>\n",
       "      <td>-0.645603</td>\n",
       "    </tr>\n",
       "    <tr>\n",
       "      <th>4</th>\n",
       "      <td>0</td>\n",
       "      <td>87</td>\n",
       "      <td>97</td>\n",
       "      <td>1</td>\n",
       "      <td>-0.645603</td>\n",
       "    </tr>\n",
       "    <tr>\n",
       "      <th>...</th>\n",
       "      <td>...</td>\n",
       "      <td>...</td>\n",
       "      <td>...</td>\n",
       "      <td>...</td>\n",
       "      <td>...</td>\n",
       "    </tr>\n",
       "    <tr>\n",
       "      <th>242659</th>\n",
       "      <td>2080</td>\n",
       "      <td>13</td>\n",
       "      <td>15</td>\n",
       "      <td>1</td>\n",
       "      <td>-0.148956</td>\n",
       "    </tr>\n",
       "    <tr>\n",
       "      <th>242660</th>\n",
       "      <td>2080</td>\n",
       "      <td>13</td>\n",
       "      <td>15</td>\n",
       "      <td>0</td>\n",
       "      <td>-0.148956</td>\n",
       "    </tr>\n",
       "    <tr>\n",
       "      <th>242661</th>\n",
       "      <td>2080</td>\n",
       "      <td>13</td>\n",
       "      <td>15</td>\n",
       "      <td>1</td>\n",
       "      <td>-0.148956</td>\n",
       "    </tr>\n",
       "    <tr>\n",
       "      <th>242662</th>\n",
       "      <td>2080</td>\n",
       "      <td>63</td>\n",
       "      <td>70</td>\n",
       "      <td>0</td>\n",
       "      <td>-0.148956</td>\n",
       "    </tr>\n",
       "    <tr>\n",
       "      <th>242663</th>\n",
       "      <td>2080</td>\n",
       "      <td>13</td>\n",
       "      <td>15</td>\n",
       "      <td>1</td>\n",
       "      <td>-0.148956</td>\n",
       "    </tr>\n",
       "  </tbody>\n",
       "</table>\n",
       "<p>242664 rows × 5 columns</p>\n",
       "</div>"
      ],
      "text/plain": [
       "        user  skill_id  skill  correct     theta\n",
       "0          0        34     38        1 -0.645603\n",
       "1          0         3      4        0 -0.645603\n",
       "2          0         3      4        0 -0.645603\n",
       "3          0        27     30        1 -0.645603\n",
       "4          0        87     97        1 -0.645603\n",
       "...      ...       ...    ...      ...       ...\n",
       "242659  2080        13     15        1 -0.148956\n",
       "242660  2080        13     15        0 -0.148956\n",
       "242661  2080        13     15        1 -0.148956\n",
       "242662  2080        63     70        0 -0.148956\n",
       "242663  2080        13     15        1 -0.148956\n",
       "\n",
       "[242664 rows x 5 columns]"
      ]
     },
     "execution_count": 54,
     "metadata": {},
     "output_type": "execute_result"
    }
   ],
   "source": [
    "df_rnn"
   ]
  },
  {
   "cell_type": "code",
   "execution_count": 55,
   "id": "ca190c03",
   "metadata": {},
   "outputs": [
    {
     "name": "stdout",
     "output_type": "stream",
     "text": [
      "0.5000531493815908\n"
     ]
    },
    {
     "name": "stderr",
     "output_type": "stream",
     "text": [
      "100%|███████████████████████████████████████████████████████████████████████████████████████████████████████████████████████████████████████████████████████████████████████| 3524/3524 [01:02<00:00, 56.74it/s]\n"
     ]
    }
   ],
   "source": [
    "rnn_roc = identify(seq, df_rnn)"
   ]
  },
  {
   "cell_type": "code",
   "execution_count": 56,
   "id": "f259d32b",
   "metadata": {},
   "outputs": [
    {
     "name": "stdout",
     "output_type": "stream",
     "text": [
      "0.5000531493815908\n"
     ]
    },
    {
     "name": "stderr",
     "output_type": "stream",
     "text": [
      "100%|███████████████████████████████████████████████████████████████████████████████████████████████████████████████████████████████████████████████████████████████████████| 3524/3524 [00:38<00:00, 90.92it/s]\n"
     ]
    }
   ],
   "source": [
    "hmm_roc = identify(seq, df_hmm)"
   ]
  },
  {
   "cell_type": "code",
   "execution_count": 57,
   "id": "70963d99",
   "metadata": {},
   "outputs": [
    {
     "data": {
      "text/plain": [
       "<matplotlib.legend.Legend at 0x7f4b4053e530>"
      ]
     },
     "execution_count": 57,
     "metadata": {},
     "output_type": "execute_result"
    },
    {
     "data": {
      "image/png": "[encoded data removed]",
      "text/plain": [
       "<Figure size 720x720 with 1 Axes>"
      ]
     },
     "metadata": {
      "needs_background": "light"
     },
     "output_type": "display_data"
    }
   ],
   "source": [
    "plt.rcParams['figure.figsize'] = [10, 10]\n",
    "plt.rcParams['font.family'] = 'monospace'\n",
    "plt.xlabel('False Positive Rate')\n",
    "plt.ylabel('True Positive Rate')\n",
    "\n",
    "for p in []: # [0, 0.25, 0.5, 0.99]:\n",
    "    (fpr, tpr, _) = roc_data[p]\n",
    "    roc_auc = metrics.auc(fpr, tpr)\n",
    "    plt.plot(fpr, tpr, label=f'drop = {p:<5} (AUC = {roc_auc:.5f})')\n",
    "    \n",
    "rnn_auc = metrics.auc(rnn_roc[0], rnn_roc[1]) # max3: 0.51466\n",
    "plt.plot(rnn_roc[0], rnn_roc[1], label=f'RNN (AUC = {rnn_auc:.5f})')\n",
    "\n",
    "hmm_auc = metrics.auc(hmm_roc[0], hmm_roc[1]) # max3: 0.51466\n",
    "plt.plot(hmm_roc[0], hmm_roc[1], label=f'Markov (AUC = {hmm_auc:.5f})')\n",
    "\n",
    "plt.legend()"
   ]
  },
  {
   "cell_type": "code",
   "execution_count": 37,
   "id": "b48fa5f6",
   "metadata": {
    "scrolled": true
   },
   "outputs": [
    {
     "name": "stderr",
     "output_type": "stream",
     "text": [
      "100%|█████████████████████████████████████████████████████████████████████████████████████████████████████████████████████████████████████████████████████████████████████████| 782/782 [00:17<00:00, 43.87it/s]\n"
     ]
    },
    {
     "data": {
      "text/plain": [
       "(array([0.        , 0.00248139, 0.00248139, 0.00744417, 0.00744417,\n",
       "        0.00992556, 0.00992556, 0.01240695, 0.01240695, 0.01488834,\n",
       "        0.01488834, 0.01736973, 0.01736973, 0.01985112, 0.01985112,\n",
       "        0.01985112, 0.01985112, 0.02233251, 0.02233251, 0.02233251,\n",
       "        0.0248139 , 0.0248139 , 0.0248139 , 0.0248139 , 0.0248139 ,\n",
       "        0.0248139 , 0.0248139 , 0.0248139 , 0.0248139 , 0.0248139 ,\n",
       "        0.0248139 , 0.0248139 , 0.0248139 , 0.0248139 , 0.0248139 ,\n",
       "        0.0248139 , 0.02729529, 0.02729529, 0.02729529, 0.02729529,\n",
       "        0.02729529, 0.02729529, 0.02729529, 0.02729529, 0.02729529,\n",
       "        0.02729529, 0.02729529, 0.02729529, 0.02977667, 0.02977667,\n",
       "        0.02977667, 0.02977667, 0.02977667, 0.02977667, 0.02977667,\n",
       "        0.02977667, 0.02977667, 0.02977667, 0.03225806, 0.03225806,\n",
       "        0.03473945, 0.03473945, 0.03722084, 0.03722084, 0.03970223,\n",
       "        0.03970223, 0.03970223, 0.03970223, 0.04218362, 0.04218362,\n",
       "        0.04466501, 0.04466501, 0.04466501, 0.04466501, 0.04466501,\n",
       "        0.0471464 , 0.0471464 , 0.0471464 , 0.0471464 , 0.04962779,\n",
       "        0.04962779, 0.05210918, 0.05210918, 0.05459057, 0.05459057,\n",
       "        0.05955335, 0.05955335, 0.06203474, 0.06203474, 0.06451613,\n",
       "        0.06451613, 0.06947891, 0.06947891, 0.07444169, 0.07444169,\n",
       "        0.09181141, 0.09181141, 0.0942928 , 0.10173697, 0.10669975,\n",
       "        0.10669975, 0.1191067 , 0.1191067 , 0.12158809, 0.12158809,\n",
       "        0.15632754, 0.1662531 , 0.17121588, 0.17617866, 0.18362283,\n",
       "        0.18858561, 0.21836228, 0.22332506, 0.22828784, 0.23325062,\n",
       "        0.24069479, 0.24565757, 0.25310174, 0.25806452, 0.26799007,\n",
       "        0.27791563, 0.28784119, 0.29280397, 0.3101737 , 0.31513648,\n",
       "        0.32506203, 0.33498759, 0.34739454, 0.35235732, 0.36476427,\n",
       "        0.36972705, 0.40942928, 0.41687345, 0.4516129 , 0.45657568,\n",
       "        0.51364764, 0.51861042, 0.56575682, 0.5707196 , 0.63523573,\n",
       "        0.64019851, 0.72208437, 0.72704715, 0.7617866 , 0.76674938,\n",
       "        0.77419355, 0.77915633, 0.79156328, 0.79652605, 0.82382134,\n",
       "        0.82878412, 0.83870968, 0.85359801, 0.8560794 , 0.86104218,\n",
       "        0.86352357, 0.86848635, 0.87096774, 0.87841191, 0.88585608,\n",
       "        0.89081886, 0.90322581, 0.90818859, 0.91066998, 0.91563275,\n",
       "        0.95533499, 0.96029777, 1.        ]),\n",
       " array([0.        , 0.        , 0.00263852, 0.00263852, 0.01319261,\n",
       "        0.01319261, 0.03957784, 0.04485488, 0.05277045, 0.05277045,\n",
       "        0.07387863, 0.07387863, 0.08707124, 0.08707124, 0.12401055,\n",
       "        0.1292876 , 0.13192612, 0.13720317, 0.14248021, 0.14775726,\n",
       "        0.14775726, 0.1530343 , 0.15831135, 0.16886544, 0.17414248,\n",
       "        0.19788918, 0.20316623, 0.21372032, 0.21899736, 0.22163588,\n",
       "        0.22691293, 0.24010554, 0.24538259, 0.2823219 , 0.28759894,\n",
       "        0.29287599, 0.29287599, 0.31134565, 0.31662269, 0.34564644,\n",
       "        0.35092348, 0.37467018, 0.37994723, 0.39050132, 0.40105541,\n",
       "        0.43799472, 0.44327177, 0.46174142, 0.46174142, 0.47493404,\n",
       "        0.48021108, 0.48812665, 0.49604222, 0.51451187, 0.52770449,\n",
       "        0.67546174, 0.68337731, 0.74406332, 0.74406332, 0.75461741,\n",
       "        0.75461741, 0.80474934, 0.80738786, 0.82585752, 0.82585752,\n",
       "        0.83377309, 0.83905013, 0.85488127, 0.85488127, 0.86543536,\n",
       "        0.86543536, 0.8707124 , 0.87598945, 0.88390501, 0.88918206,\n",
       "        0.88918206, 0.90765172, 0.91292876, 0.92612137, 0.92612137,\n",
       "        0.93667546, 0.93667546, 0.94195251, 0.94459103, 0.96042216,\n",
       "        0.96042216, 0.96569921, 0.96569921, 0.9762533 , 0.9762533 ,\n",
       "        0.98153034, 0.98153034, 0.98416887, 0.98416887, 0.98680739,\n",
       "        0.98680739, 0.98944591, 0.98944591, 0.99208443, 0.99208443,\n",
       "        0.99472296, 0.99472296, 0.99736148, 0.99736148, 1.        ,\n",
       "        1.        , 1.        , 1.        , 1.        , 1.        ,\n",
       "        1.        , 1.        , 1.        , 1.        , 1.        ,\n",
       "        1.        , 1.        , 1.        , 1.        , 1.        ,\n",
       "        1.        , 1.        , 1.        , 1.        , 1.        ,\n",
       "        1.        , 1.        , 1.        , 1.        , 1.        ,\n",
       "        1.        , 1.        , 1.        , 1.        , 1.        ,\n",
       "        1.        , 1.        , 1.        , 1.        , 1.        ,\n",
       "        1.        , 1.        , 1.        , 1.        , 1.        ,\n",
       "        1.        , 1.        , 1.        , 1.        , 1.        ,\n",
       "        1.        , 1.        , 1.        , 1.        , 1.        ,\n",
       "        1.        , 1.        , 1.        , 1.        , 1.        ,\n",
       "        1.        , 1.        , 1.        , 1.        , 1.        ,\n",
       "        1.        , 1.        , 1.        ]),\n",
       " array([1.98826473, 0.98826473, 0.98790973, 0.9861976 , 0.98503425,\n",
       "        0.98489777, 0.98354214, 0.98352074, 0.98335167, 0.98335167,\n",
       "        0.9829927 , 0.98285036, 0.9826712 , 0.98258168, 0.98208345,\n",
       "        0.98207276, 0.98205688, 0.98198026, 0.98191804, 0.98190797,\n",
       "        0.98188477, 0.98183965, 0.98179615, 0.98166691, 0.98166691,\n",
       "        0.98143692, 0.9814039 , 0.98127842, 0.98124005, 0.98121778,\n",
       "        0.98116787, 0.98105795, 0.98103203, 0.98068797, 0.98068702,\n",
       "        0.98065409, 0.98064552, 0.98052983, 0.98050927, 0.98026424,\n",
       "        0.98025782, 0.9800509 , 0.98004791, 0.98001409, 0.98000232,\n",
       "        0.97987596, 0.97987245, 0.97971764, 0.97971565, 0.97967399,\n",
       "        0.97966216, 0.97962508, 0.97961686, 0.9794203 , 0.9794203 ,\n",
       "        0.97871439, 0.97867668, 0.97836824, 0.9783523 , 0.97828342,\n",
       "        0.97826857, 0.97786981, 0.97783295, 0.97773155, 0.9777097 ,\n",
       "        0.97764061, 0.97764061, 0.9774407 , 0.97743433, 0.97716615,\n",
       "        0.9771519 , 0.97711731, 0.97709451, 0.97707126, 0.97700691,\n",
       "        0.97699361, 0.97673876, 0.9766818 , 0.9763858 , 0.97637522,\n",
       "        0.97621699, 0.97621699, 0.97602826, 0.97596563, 0.97550465,\n",
       "        0.97542854, 0.97509196, 0.97481797, 0.97450248, 0.97438388,\n",
       "        0.97429758, 0.97421345, 0.97415173, 0.97398779, 0.97388695,\n",
       "        0.97300503, 0.97288565, 0.97267028, 0.97247174, 0.9721937 ,\n",
       "        0.97197865, 0.9703494 , 0.97018354, 0.97010785, 0.97010785,\n",
       "        0.96656077, 0.96601068, 0.96573962, 0.96563192, 0.96521084,\n",
       "        0.9651412 , 0.96097573, 0.96082132, 0.96048968, 0.95987018,\n",
       "        0.95941133, 0.95926412, 0.95850373, 0.95837898, 0.95733393,\n",
       "        0.95696342, 0.95588055, 0.95561629, 0.95408134, 0.95383356,\n",
       "        0.95266052, 0.95239157, 0.95102085, 0.95102085, 0.94936569,\n",
       "        0.94929276, 0.9478645 , 0.94766636, 0.94577222, 0.94575951,\n",
       "        0.94249711, 0.94225019, 0.93861095, 0.93837286, 0.93383692,\n",
       "        0.93374136, 0.92686922, 0.92639937, 0.9210221 , 0.92076903,\n",
       "        0.92011586, 0.91968909, 0.91845976, 0.91840404, 0.91595897,\n",
       "        0.91563712, 0.91442914, 0.91404821, 0.91400097, 0.91399114,\n",
       "        0.91382067, 0.91376409, 0.9134271 , 0.91320479, 0.91235401,\n",
       "        0.91228018, 0.91114007, 0.91107834, 0.91067275, 0.91057232,\n",
       "        0.90603146, 0.90564698, 0.89867191]))"
      ]
     },
     "execution_count": 37,
     "metadata": {},
     "output_type": "execute_result"
    }
   ],
   "source": [
    "identify(seq, anonymize(df_train, p=0.5))"
   ]
  },
  {
   "cell_type": "code",
   "execution_count": 64,
   "id": "c8b2aba2",
   "metadata": {},
   "outputs": [
    {
     "data": {
      "text/plain": [
       "((590417, 5), (159139, 5), (617327, 9))"
      ]
     },
     "execution_count": 64,
     "metadata": {},
     "output_type": "execute_result"
    }
   ],
   "source": [
    "import pandas as pd\n",
    "df2 = pd.read_csv('data/duolingo_train/gen-bsl-200-2-16-0.001-1-16-0.csv')\n",
    "\n",
    "df1 = pd.read_csv('data/duolingo_train/data.csv')\n",
    "\n",
    "df3 = pd.read_csv('data/duolingo_train/gen-jjv-markov.csv')\n",
    "df1.shape, df2.shape, df3.shape"
   ]
  },
  {
   "cell_type": "code",
   "execution_count": 42,
   "id": "84418ce1",
   "metadata": {
    "scrolled": true
   },
   "outputs": [
    {
     "data": {
      "text/plain": [
       "605"
      ]
     },
     "execution_count": 42,
     "metadata": {},
     "output_type": "execute_result"
    }
   ],
   "source": [
    "max([user for user, _ in df2.groupby('user')])"
   ]
  },
  {
   "cell_type": "code",
   "execution_count": 71,
   "id": "9df8d94c",
   "metadata": {},
   "outputs": [
    {
     "data": {
      "text/plain": [
       "200.98"
      ]
     },
     "execution_count": 71,
     "metadata": {},
     "output_type": "execute_result"
    }
   ],
   "source": [
    "(10000 + 49) / 50"
   ]
  },
  {
   "cell_type": "code",
   "execution_count": 106,
   "id": "418752b6",
   "metadata": {},
   "outputs": [
    {
     "data": {
      "text/plain": [
       "<matplotlib.legend.Legend at 0x7fd615777a00>"
      ]
     },
     "execution_count": 106,
     "metadata": {},
     "output_type": "execute_result"
    },
    {
     "data": {
      "image/png": "[encoded data removed]",
      "text/plain": [
       "<Figure size 720x720 with 1 Axes>"
      ]
     },
     "metadata": {
      "needs_background": "light"
     },
     "output_type": "display_data"
    }
   ],
   "source": [
    "df2.groupby('user').size().reset_index().rename(columns={0: 'count'})['count'].hist(label='rnn', alpha=0.3)\n",
    "df1.groupby('user').size().reset_index().rename(columns={0: 'count'})['count'].hist(bins=60, label='base', alpha=0.3)\n",
    "df3.groupby('user').size().reset_index().rename(columns={0: 'count'})['count'].hist(bins=10, label='markov', alpha=0.3)\n",
    "plt.legend()"
   ]
  }
 ],
 "metadata": {
  "kernelspec": {
   "display_name": "Python 3 (ipykernel)",
   "language": "python",
   "name": "python3"
  },
  "language_info": {
   "codemirror_mode": {
    "name": "ipython",
    "version": 3
   },
   "file_extension": ".py",
   "mimetype": "text/x-python",
   "name": "python",
   "nbconvert_exporter": "python",
   "pygments_lexer": "ipython3",
   "version": "3.10.4"
  }
 },
 "nbformat": 4,
 "nbformat_minor": 5
}
