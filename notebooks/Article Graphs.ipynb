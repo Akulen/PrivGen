{
 "cells": [
  {
   "cell_type": "code",
   "execution_count": 17,
   "id": "07226282",
   "metadata": {
    "scrolled": true
   },
   "outputs": [
    {
     "data": {
      "text/plain": [
       "{'drop0': {'RMSE': 0.0, 'wRMSE': 0.0, 'lwRMSE': 0.0, 'AUC': 0.913},\n",
       " 'drop0.25': {'RMSE': 0.093, 'wRMSE': 0.035, 'lwRMSE': 0.073, 'AUC': 0.776},\n",
       " 'drop0.5': {'RMSE': 0.147, 'wRMSE': 0.064, 'lwRMSE': 0.126, 'AUC': 0.68},\n",
       " 'drop0.75': {'RMSE': 0.283, 'wRMSE': 0.105, 'lwRMSE': 0.234, 'AUC': 0.588},\n",
       " 'drop0.99': {'RMSE': 0.719, 'wRMSE': 0.481, 'lwRMSE': 0.664, 'AUC': 0.497},\n",
       " 'drop0.999': {'RMSE': 0.833, 'wRMSE': 0.692, 'lwRMSE': 0.797, 'AUC': 0.497},\n",
       " 'rnn': {'RMSE': 0.213, 'wRMSE': 0.061, 'lwRMSE': 0.152, 'AUC': 0.508},\n",
       " 'markov': {'RMSE': 0.245, 'wRMSE': 0.065, 'lwRMSE': 0.17, 'AUC': 0.495}}"
      ]
     },
     "execution_count": 17,
     "metadata": {},
     "output_type": "execute_result"
    }
   ],
   "source": [
    "duolingo = False\n",
    "if duolingo:\n",
    "    dataset, datapath = 'Duolingo', 'duolingo_train'\n",
    "else:\n",
    "    dataset, datapath = 'Assistments 2009', 'assistments2009_train'\n",
    "results = {}\n",
    "with open(f'data/{datapath}/results') as f:\n",
    "    for line in f.readlines():\n",
    "        values = line.split()\n",
    "        name, values = values[0], values[1:]\n",
    "        values = list(map(float, values))\n",
    "        results[name] = {\n",
    "            'RMSE':   values[0],\n",
    "            'wRMSE':  values[1],\n",
    "            'lwRMSE': values[2],\n",
    "            'AUC':    values[3],\n",
    "        }\n",
    "\n",
    "results"
   ]
  },
  {
   "cell_type": "code",
   "execution_count": 9,
   "id": "ebd2fd5d",
   "metadata": {},
   "outputs": [],
   "source": [
    "import matplotlib.pyplot as plt\n",
    "import matplotlib\n",
    "\n",
    "y = [2.56422, 3.77284, 3.52623, 3.51468, 3.02199]\n",
    "z = [0.15, 0.3, 0.45, 0.6, 0.75]\n",
    "n = [58, 651, 393, 203, 123]\n",
    "\n",
    "matplotlib.use('pgf')\n",
    "pgf_with_rc_fonts = {\n",
    "    'font.family': 'serif',\n",
    "    'font.serif': [],\n",
    "    # 'text.usetex': True,\n",
    "}\n",
    "matplotlib.rcParams.update(pgf_with_rc_fonts)\n",
    "\n",
    "plt.rcParams['figure.figsize'] = (12, 8)\n",
    "plt.rcParams['font.size'] = 22.\n",
    "\n",
    "fig, axs = plt.subplots(1, 1)\n",
    "axs = [axs]\n",
    "fig.suptitle(dataset)\n",
    "\n",
    "prettyname = {\n",
    "    'drop0': 'Drop 0.000',\n",
    "    'drop0.25': 'Drop 0.250',\n",
    "    'drop0.5': 'Drop 0.500',\n",
    "    'drop0.75': 'Drop 0.750',\n",
    "    'drop0.99': 'Drop 0.990',\n",
    "    'drop0.999': 'Drop 0.999',\n",
    "    'rnn': 'RNN',\n",
    "    'markov': 'Markov',\n",
    "}\n",
    "grey = '#555555'\n",
    "color = {\n",
    "    'drop0': grey,\n",
    "    'drop0.25': grey,\n",
    "    'drop0.5': grey,\n",
    "    'drop0.75': grey,\n",
    "    'drop0.99': grey,\n",
    "    'drop0.999': grey,\n",
    "    'rnn': 'r',\n",
    "    'markov': 'b',\n",
    "}\n",
    "\n",
    "for i, rmse in enumerate(['wRMSE']):\n",
    "\n",
    "    X = sorted(filter(lambda s: s[:4] == 'drop', results.keys()))\n",
    "    axs[i].plot([results[x]['AUC'] for x in X], [results[x][rmse] for x in X], c=grey)\n",
    "\n",
    "    for model, res in results.items():\n",
    "        axs[i].scatter([res['AUC']], [res[rmse]], c=color[model])\n",
    "        if model[:4] != 'drop' and i == 0:\n",
    "            if model[0] == 'r':\n",
    "                axs[i].annotate(prettyname[model], (res['AUC']+0.01, res[rmse]-0.02), c=color[model])\n",
    "            else:\n",
    "                axs[i].annotate(prettyname[model], (res['AUC']-(0.1 if duolingo else 0.09), res[rmse]-0.02), c=color[model])\n",
    "        else:\n",
    "            axs[i].annotate(prettyname[model], (res['AUC']+0.01, res[rmse]), c=color[model])\n",
    "\n",
    "    axs[i].set_xlabel('AUC')\n",
    "    axs[i].set_ylabel(rmse)\n",
    "    xmin, xmax = axs[i].get_xlim()\n",
    "    axs[i].set_xlim(xmin, xmax+0.13)\n",
    "    ymin, ymax = axs[i].get_ylim()\n",
    "    axs[i].set_ylim(ymin, ymax+0.05)\n",
    "    ticks = list(filter(lambda x: x <= 1, axs[i].get_xticks()))\n",
    "    axs[i].set_xticks(ticks)\n",
    "\n",
    "plt.savefig('auc-wrmse-duolingo.pdf')"
   ]
  },
  {
   "cell_type": "code",
   "execution_count": 20,
   "id": "61f32422",
   "metadata": {},
   "outputs": [
    {
     "name": "stdout",
     "output_type": "stream",
     "text": [
      "0.000 & 0.035 & 0.064 & 0.105 & 0.481 & 0.692 & 0.065 & 0.061 & "
     ]
    }
   ],
   "source": [
    "for model in ['drop0', 'drop0.25', 'drop0.5', 'drop0.75', 'drop0.99', 'drop0.999', 'markov', 'rnn']:\n",
    "    print(f\"{results[model]['wRMSE']:.3f} &\", end=' ')"
   ]
  }
 ],
 "metadata": {
  "kernelspec": {
   "display_name": "Python 3 (ipykernel)",
   "language": "python",
   "name": "python3"
  },
  "language_info": {
   "codemirror_mode": {
    "name": "ipython",
    "version": 3
   },
   "file_extension": ".py",
   "mimetype": "text/x-python",
   "name": "python",
   "nbconvert_exporter": "python",
   "pygments_lexer": "ipython3",
   "version": "3.10.4"
  }
 },
 "nbformat": 4,
 "nbformat_minor": 5
}
