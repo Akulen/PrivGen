{
 "cells": [
  {
   "cell_type": "code",
   "execution_count": 1,
   "id": "964155f0",
   "metadata": {},
   "outputs": [],
   "source": [
    "import pandas as pd\n",
    "\n",
    "df = pd.read_csv('data/assistments2009.csv')"
   ]
  },
  {
   "cell_type": "code",
   "execution_count": 2,
   "id": "c6618828",
   "metadata": {},
   "outputs": [
    {
     "data": {
      "text/plain": [
       "(   user   item  skill  correct  wins  fails\n",
       " 0  2099  76429     90        0     0      0\n",
       " 1  2099  76430     90        1     0      1\n",
       " 2  2099  76431     90        1     1      1\n",
       " 3  2099  76432     90        1     2      1\n",
       " 4  2099  76433     90        0     3      1,\n",
       " (278607, 6))"
      ]
     },
     "execution_count": 2,
     "metadata": {},
     "output_type": "execute_result"
    }
   ],
   "source": [
    "df.head(), df.shape"
   ]
  },
  {
   "cell_type": "code",
   "execution_count": 3,
   "id": "de4b4229",
   "metadata": {},
   "outputs": [
    {
     "data": {
      "text/plain": [
       "72      535\n",
       "443     535\n",
       "438     537\n",
       "67      537\n",
       "462     541\n",
       "       ... \n",
       "82      972\n",
       "113     972\n",
       "49      979\n",
       "75      992\n",
       "105    1021\n",
       "Name: count, Length: 100, dtype: int64"
      ]
     },
     "execution_count": 3,
     "metadata": {},
     "output_type": "execute_result"
    }
   ],
   "source": [
    "df.groupby('user').size().reset_index().rename(columns={0: 'count'})['count'].sort_values()[-100:]"
   ]
  },
  {
   "cell_type": "code",
   "execution_count": 4,
   "id": "37e923e6",
   "metadata": {},
   "outputs": [],
   "source": [
    "import logging\n",
    "import torch\n",
    "from torch import nn\n",
    "from tqdm import trange\n",
    "\n",
    "# TODO: add \\theta and d computed values\n",
    "\n",
    "class RNN(nn.Module):\n",
    "    def __init__(self, n_skills, n_items, items_per_skill, hidden_dim=[20, 20], n_layers=[1, 1],\n",
    "            embed_size=16, n_epochs=100, lr=0.01, batch_size=None, device=None):\n",
    "        super().__init__()\n",
    "        self.logger = logging.getLogger(__name__\n",
    "                                      + '.'\n",
    "                                      + self.__class__.__name__)\n",
    "        self.logger.setLevel(logging.DEBUG)\n",
    "        \n",
    "        self.hidden_dim = hidden_dim\n",
    "        self.n_layers = n_layers\n",
    "        self.n_epochs = n_epochs\n",
    "        self.lr = lr\n",
    "        self.batch_size = batch_size\n",
    "        # TODO: pass on GPU if available and batch_size allows for it\n",
    "        self.device = torch.device(\"cpu\") if device is None else device\n",
    "\n",
    "        self.embed = nn.Embedding(2*n_skills+1, embed_size, padding_idx=0, device=self.device)\n",
    "        self.rnn = nn.GRU(embed_size, hidden_dim[0], n_layers[0], batch_first=True, device=self.device)\n",
    "        self.oh_skill = nn.Linear(hidden_dim[0], n_skills, device=self.device)\n",
    "        #self.skills = [\n",
    "        #    nn.RNN(n_items+n_skills+1, hidden_dim[1], n_layers[1], batch_first=True)\n",
    "        #    for _ in range(n_skills)\n",
    "        #]\n",
    "\n",
    "    def fit(self, X, Y):\n",
    "        criterion = torch.nn.CrossEntropyLoss(ignore_index=-100)\n",
    "        optimizer = torch.optim.Adam(self.parameters(), lr=self.lr)\n",
    "        ls = []\n",
    "        with trange(self.n_epochs, unit=\"epoch\") as pbar:\n",
    "            for epoch in pbar:\n",
    "                optimizer.zero_grad() # Clears existing gradients from previous epoch\n",
    "                output, hidden = self(X)\n",
    "                loss = criterion(output.flatten(0, 1), Y.flatten(0, 1))\n",
    "                loss.backward()\n",
    "                ls.append(loss.item())\n",
    "                optimizer.step()\n",
    "\n",
    "                pbar.set_postfix(loss=loss.item())\n",
    "        return ls\n",
    "\n",
    "    def predict(self, X):\n",
    "        return self.forward(X)[0][:,-1,0].detach().numpy()\n",
    "\n",
    "    def forward(self, x):\n",
    "        batch_size = x.size(0)\n",
    "\n",
    "        hidden = self.init_hidden(batch_size)\n",
    "\n",
    "        out, hidden[0] = self.rnn(self.embed(x), hidden[0])\n",
    "        out = self.oh_skill(out)\n",
    "\n",
    "        return out, hidden\n",
    "\n",
    "    def init_hidden(self, batch_size):\n",
    "        hidden = [\n",
    "            torch.zeros(self.n_layers[0], batch_size, self.hidden_dim[0]) \\\n",
    "                 .to(self.device)\n",
    "        ]\n",
    "        return hidden"
   ]
  },
  {
   "cell_type": "code",
   "execution_count": 5,
   "id": "e6bdddbb",
   "metadata": {},
   "outputs": [],
   "source": [
    "n_skills = df['skill'].nunique()\n",
    "n_items = df['item'].nunique()\n",
    "df[\"skill_id\"] = df[\"skill\"].astype('category')\n",
    "df[\"skill_id\"] = df[\"skill_id\"].cat.codes\n",
    "df[\"item_id\"] = df[\"item\"].astype('category')\n",
    "df[\"item_id\"] = df[\"item_id\"].cat.codes\n",
    "items_per_skill = df.groupby('skill_id')['item'].nunique()"
   ]
  },
  {
   "cell_type": "code",
   "execution_count": 6,
   "id": "9a8408d9",
   "metadata": {},
   "outputs": [
    {
     "name": "stdout",
     "output_type": "stream",
     "text": [
      "CPU times: user 2.12 s, sys: 27.4 ms, total: 2.15 s\n",
      "Wall time: 2.15 s\n"
     ]
    },
    {
     "data": {
      "text/plain": [
       "[[(1121, 0, 0)],\n",
       " [(1057, 0, 0)],\n",
       " [(1105, 0, 0)],\n",
       " [(1049, 0, 0)],\n",
       " [(12685, 1, 0)],\n",
       " [(12746, 1, 0)],\n",
       " [(12873, 5, 0)],\n",
       " [(534, 6, 0)],\n",
       " [(538, 6, 0)],\n",
       " [(2801, 6, 0)]]"
      ]
     },
     "execution_count": 6,
     "metadata": {},
     "output_type": "execute_result"
    }
   ],
   "source": [
    "%%time\n",
    "\n",
    "seq = [\n",
    "    [tuple(x) for x in user[['item_id', 'skill_id', 'correct']].to_numpy()]\n",
    "    for _, user in df.groupby('user')\n",
    "]\n",
    "sorted(seq, key=len)[:10]"
   ]
  },
  {
   "cell_type": "code",
   "execution_count": 7,
   "id": "65c0cac5",
   "metadata": {},
   "outputs": [
    {
     "data": {
      "text/plain": [
       "(4163, 17716)"
      ]
     },
     "execution_count": 7,
     "metadata": {},
     "output_type": "execute_result"
    }
   ],
   "source": [
    "len(seq), n_items"
   ]
  },
  {
   "cell_type": "code",
   "execution_count": 8,
   "id": "945b2bd2",
   "metadata": {},
   "outputs": [
    {
     "name": "stdout",
     "output_type": "stream",
     "text": [
      "CPU times: user 207 ms, sys: 2.44 ms, total: 209 ms\n",
      "Wall time: 194 ms\n"
     ]
    },
    {
     "data": {
      "text/plain": [
       "((5831, 100), (5831, 100))"
      ]
     },
     "execution_count": 8,
     "metadata": {},
     "output_type": "execute_result"
    }
   ],
   "source": [
    "%%time\n",
    "import numpy as np\n",
    "\n",
    "def oh_encode(x, max_x):\n",
    "    t = np.zeros(max_x, dtype=int)\n",
    "    t[x] = 1\n",
    "    return t\n",
    "\n",
    "seq_size = 100\n",
    "\n",
    "seq_oh = []\n",
    "seq_Y = []\n",
    "for s in seq:\n",
    "    for i in range((len(s) + seq_size - 1) // seq_size):\n",
    "        if len(s) < (i+1)*seq_size:\n",
    "            seq_oh.append(np.concatenate((np.array([\n",
    "                skill + n_skills * correct+1\n",
    "                for item, skill, correct in s[i*seq_size:len(s)]\n",
    "            ]), np.array([0] * ((i+1)*seq_size-len(s))))))\n",
    "            seq_Y.append(np.array([skill for _, skill, _ in s[i*seq_size:len(s)]] + [-100] * ((i+1)*seq_size-len(s))))\n",
    "        else:\n",
    "            seq_oh.append(np.array([\n",
    "                skill + n_skills * correct+1\n",
    "                for item, skill, correct in s[i*seq_size:(i+1)*seq_size]\n",
    "            ]))\n",
    "            seq_Y.append(np.array([skill for _, skill, _ in s[i*seq_size:(i+1)*seq_size]]))\n",
    "seq_oh = np.array(seq_oh)\n",
    "seq_Y = np.array(seq_Y)\n",
    "seq_oh.shape, seq_Y.shape"
   ]
  },
  {
   "cell_type": "code",
   "execution_count": 9,
   "id": "891424c2",
   "metadata": {},
   "outputs": [],
   "source": [
    "device = torch.device(\"cpu\")\n",
    "X = torch.from_numpy(seq_oh[:,:-1]).to(device)\n",
    "Y = torch.from_numpy(seq_Y[:,1:]).to(device)"
   ]
  },
  {
   "cell_type": "code",
   "execution_count": 10,
   "id": "b0ee9b52",
   "metadata": {},
   "outputs": [
    {
     "data": {
      "text/plain": [
       "(tensor(0), tensor(224))"
      ]
     },
     "execution_count": 10,
     "metadata": {},
     "output_type": "execute_result"
    }
   ],
   "source": [
    "X.min(), X.max()"
   ]
  },
  {
   "cell_type": "code",
   "execution_count": 11,
   "id": "26c921ed",
   "metadata": {},
   "outputs": [],
   "source": [
    "rnn = RNN(n_skills, n_items, items_per_skill, hidden_dim=[200, 20], n_layers=[2, 1],\n",
    "            embed_size=16, n_epochs=500, lr=0.01, device=device)"
   ]
  },
  {
   "cell_type": "code",
   "execution_count": 12,
   "id": "faada1fc",
   "metadata": {},
   "outputs": [
    {
     "name": "stderr",
     "output_type": "stream",
     "text": [
      "  0%|                                                                                                                                                                                | 0/500 [00:00<?, ?epoch/s]/home/akulen/.local/lib/python3.10/site-packages/torch/autograd/__init__.py:173: UserWarning: CUDA initialization: CUDA unknown error - this may be due to an incorrectly set up environment, e.g. changing env variable CUDA_VISIBLE_DEVICES after program start. Setting the available devices to be zero. (Triggered internally at  ../c10/cuda/CUDAFunctions.cpp:112.)\n",
      "  Variable._execution_engine.run_backward(  # Calls into the C++ engine to run the backward pass\n",
      "100%|███████████████████████████████████████████████████████████████████████████████████████████████████████████████████████████████████████████████████████| 500/500 [1:17:35<00:00,  9.31s/epoch, loss=0.0669]"
     ]
    },
    {
     "name": "stdout",
     "output_type": "stream",
     "text": [
      "CPU times: user 7h 30s, sys: 25min 14s, total: 7h 25min 44s\n",
      "Wall time: 1h 17min 35s\n"
     ]
    },
    {
     "name": "stderr",
     "output_type": "stream",
     "text": [
      "\n"
     ]
    }
   ],
   "source": [
    "%%time\n",
    "\n",
    "ls = rnn.fit(X, Y)"
   ]
  },
  {
   "cell_type": "code",
   "execution_count": 13,
   "id": "d67606c4",
   "metadata": {},
   "outputs": [
    {
     "data": {
      "text/plain": [
       "[<matplotlib.lines.Line2D at 0x7f9e8028d810>]"
      ]
     },
     "execution_count": 13,
     "metadata": {},
     "output_type": "execute_result"
    },
    {
     "data": {
      "image/png": "[encoded data removed]",
      "text/plain": [
       "<Figure size 432x288 with 1 Axes>"
      ]
     },
     "metadata": {
      "needs_background": "light"
     },
     "output_type": "display_data"
    }
   ],
   "source": [
    "import matplotlib.pyplot as plt\n",
    "\n",
    "plt.plot(ls)"
   ]
  }
 ],
 "metadata": {
  "kernelspec": {
   "display_name": "Python 3 (ipykernel)",
   "language": "python",
   "name": "python3"
  },
  "language_info": {
   "codemirror_mode": {
    "name": "ipython",
    "version": 3
   },
   "file_extension": ".py",
   "mimetype": "text/x-python",
   "name": "python",
   "nbconvert_exporter": "python",
   "pygments_lexer": "ipython3",
   "version": "3.10.2"
  }
 },
 "nbformat": 4,
 "nbformat_minor": 5
}
