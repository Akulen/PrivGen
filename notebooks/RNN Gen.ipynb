{
 "cells": [
  {
   "cell_type": "code",
   "execution_count": 1,
   "id": "477be99d",
   "metadata": {},
   "outputs": [],
   "source": [
    "import pandas as pd\n",
    "import numpy as np\n",
    "\n",
    "df = pd.read_csv('data/assistments2009train.csv')\n",
    "\n",
    "df.head(), df.shape\n",
    "\n",
    "df.groupby('user').size().reset_index().rename(columns={0: 'count'})['count'].sort_values()[-100:]\n",
    "n_user = df['user'].nunique()"
   ]
  },
  {
   "cell_type": "code",
   "execution_count": 2,
   "id": "2fa8b092",
   "metadata": {},
   "outputs": [],
   "source": [
    "coef = np.load('coef0-2009train.npy')\n",
    "theta, e = coef[0, :-124], coef[0, -124:]"
   ]
  },
  {
   "cell_type": "code",
   "execution_count": 3,
   "id": "efc208cb",
   "metadata": {},
   "outputs": [],
   "source": [
    "n_skills = df['skill'].nunique()\n",
    "n_items = df['item'].nunique()\n",
    "df[\"skill_id\"] = df[\"skill\"].astype('category')\n",
    "df[\"skill_id\"] = df[\"skill_id\"].cat.codes\n",
    "df[\"item_id\"] = df[\"item\"].astype('category')\n",
    "df[\"item_id\"] = df[\"item_id\"].cat.codes\n",
    "items_per_skill = df.groupby('skill_id')['item'].nunique()\n",
    "\n",
    "seq = [\n",
    "    (\n",
    "        theta[user_id],\n",
    "        [tuple(x) for x in user[['item_id', 'skill_id', 'correct']].to_numpy()]\n",
    "    )\n",
    "    for user_id, user in df.groupby('user')\n",
    "]"
   ]
  },
  {
   "cell_type": "code",
   "execution_count": 4,
   "id": "539d1b65",
   "metadata": {},
   "outputs": [],
   "source": [
    "import numpy as np\n",
    "\n",
    "def sigmoid(x):\n",
    "    return 1 / (1 + np.exp(-x))\n",
    "\n",
    "def irt(theta, e):\n",
    "    return sigmoid(theta + e)"
   ]
  },
  {
   "cell_type": "code",
   "execution_count": 51,
   "id": "993a2507",
   "metadata": {
    "scrolled": true
   },
   "outputs": [
    {
     "data": {
      "text/plain": [
       "RNN(\n",
       "  (embed): Embedding(225, 32)\n",
       "  (rnn): GRU(32, 201, num_layers=2, batch_first=True)\n",
       "  (oh_skill): Linear(in_features=201, out_features=225, bias=True)\n",
       ")"
      ]
     },
     "execution_count": 51,
     "metadata": {},
     "output_type": "execute_result"
    }
   ],
   "source": [
    "import torch\n",
    "from models import RNN\n",
    "\n",
    "import numpy as np\n",
    "\n",
    "seq_size=100\n",
    "\n",
    "device = torch.device('cpu')\n",
    "\n",
    "hidden_dim, n_layers = 200, 2\n",
    "rnn = RNN(n_skills, n_items, items_per_skill, hidden_dim=[hidden_dim, 20], n_layers=[n_layers, 1],\n",
    "          embed_size=32, n_epochs=450, lr=0.01, device=device)\n",
    "\n",
    "# ls = rnn.fit(X, Y)\n",
    "#torch.save(rnn.state_dict(), f'{seq_size}-{hidden_dim}-{n_layers}.pt')\n",
    "#rnn = RNN(*args, **kwargs)\n",
    "rnn.load_state_dict(torch.load(f'2009train-{seq_size}-{hidden_dim}-{n_layers}.pt', map_location=device))\n",
    "rnn.eval()"
   ]
  },
  {
   "cell_type": "code",
   "execution_count": 52,
   "id": "dc87d8cd",
   "metadata": {},
   "outputs": [
    {
     "name": "stderr",
     "output_type": "stream",
     "text": [
      "100%|███████████████████████████████████████████████████████████████████████████████████████████████████████████████████████████████████████████████████████████████████████| 2081/2081 [01:53<00:00, 18.37it/s]"
     ]
    },
    {
     "name": "stdout",
     "output_type": "stream",
     "text": [
      "CPU times: user 10min 32s, sys: 1.64 s, total: 10min 34s\n",
      "Wall time: 1min 53s\n"
     ]
    },
    {
     "name": "stderr",
     "output_type": "stream",
     "text": [
      "\n"
     ]
    }
   ],
   "source": [
    "%%time\n",
    "\n",
    "from scipy.stats import norm\n",
    "from tqdm import tqdm\n",
    "\n",
    "N = len(seq)\n",
    "lens = []\n",
    "S = []\n",
    "gen_theta = norm(theta.mean(), theta.std()).rvs(N)\n",
    "\n",
    "for i in tqdm(range(N)):\n",
    "    s = rnn.gen(theta=gen_theta[i], e=e[sorted(df['skill'].unique())], max_n=1000)\n",
    "    S.append(s)\n",
    "    # print(len(s), s[:10])\n",
    "    lens.append(len(s))"
   ]
  },
  {
   "cell_type": "code",
   "execution_count": 55,
   "id": "9edb80c2",
   "metadata": {},
   "outputs": [
    {
     "data": {
      "text/plain": [
       "<matplotlib.legend.Legend at 0x7fec0f0d6fb0>"
      ]
     },
     "execution_count": 55,
     "metadata": {},
     "output_type": "execute_result"
    },
    {
     "data": {
      "image/png": "[encoded data removed]",
      "text/plain": [
       "<Figure size 432x288 with 1 Axes>"
      ]
     },
     "metadata": {
      "needs_background": "light"
     },
     "output_type": "display_data"
    }
   ],
   "source": [
    "import matplotlib.pyplot as plt\n",
    "\n",
    "plt.hist(lens, bins=100, alpha=0.5, label='gen')\n",
    "df.groupby('user').size().reset_index().rename(columns={0: 'count'})['count'].hist(bins=100, alpha=0.5, label='true')\n",
    "plt.legend()"
   ]
  },
  {
   "cell_type": "code",
   "execution_count": 8,
   "id": "e99e17f2",
   "metadata": {
    "scrolled": false
   },
   "outputs": [
    {
     "data": {
      "text/plain": [
       "<AxesSubplot:>"
      ]
     },
     "execution_count": 8,
     "metadata": {},
     "output_type": "execute_result"
    },
    {
     "data": {
      "image/png": "[encoded data removed]",
      "text/plain": [
       "<Figure size 432x288 with 1 Axes>"
      ]
     },
     "metadata": {
      "needs_background": "light"
     },
     "output_type": "display_data"
    }
   ],
   "source": [
    "df.groupby('user').size().reset_index().rename(columns={0: 'count'})['count'].hist(bins=100)"
   ]
  },
  {
   "cell_type": "code",
   "execution_count": 56,
   "id": "4e53ee1b",
   "metadata": {},
   "outputs": [
    {
     "data": {
      "text/plain": [
       "(127191, 140185)"
      ]
     },
     "execution_count": 56,
     "metadata": {},
     "output_type": "execute_result"
    }
   ],
   "source": [
    "sum(len(s) for s in S), len(df)"
   ]
  },
  {
   "cell_type": "code",
   "execution_count": 58,
   "id": "7d712bc3",
   "metadata": {},
   "outputs": [
    {
     "data": {
      "text/plain": [
       "<matplotlib.legend.Legend at 0x7fec0d036f20>"
      ]
     },
     "execution_count": 58,
     "metadata": {},
     "output_type": "execute_result"
    },
    {
     "data": {
      "image/png": "[encoded data removed]",
      "text/plain": [
       "<Figure size 432x288 with 1 Axes>"
      ]
     },
     "metadata": {
      "needs_background": "light"
     },
     "output_type": "display_data"
    }
   ],
   "source": [
    "plt.hist([skill for s in S for skill, _, _ in s if skill != -1], bins=112, alpha=0.5, label='gen')\n",
    "df['skill_id'].hist(bins=112, alpha=0.5, label='true')\n",
    "plt.legend()"
   ]
  },
  {
   "cell_type": "code",
   "execution_count": 11,
   "id": "68c804d9",
   "metadata": {},
   "outputs": [
    {
     "data": {
      "text/plain": [
       "<AxesSubplot:>"
      ]
     },
     "execution_count": 11,
     "metadata": {},
     "output_type": "execute_result"
    },
    {
     "data": {
      "image/png": "[encoded data removed]",
      "text/plain": [
       "<Figure size 432x288 with 1 Axes>"
      ]
     },
     "metadata": {
      "needs_background": "light"
     },
     "output_type": "display_data"
    }
   ],
   "source": [
    "df['skill_id'].hist(bins=112)"
   ]
  },
  {
   "cell_type": "code",
   "execution_count": 46,
   "id": "b1537b2b",
   "metadata": {},
   "outputs": [],
   "source": [
    "def pplist(l, s=2):\n",
    "    s = True\n",
    "    for x in l:\n",
    "        if x < 0:\n",
    "            break\n",
    "        if s:\n",
    "            s = False\n",
    "            print('[', end='')\n",
    "        else:\n",
    "            print(', ', end='')\n",
    "        print(f'{x:2}', end='')\n",
    "    print(']')"
   ]
  },
  {
   "cell_type": "code",
   "execution_count": 59,
   "id": "8f4cc490",
   "metadata": {},
   "outputs": [
    {
     "name": "stdout",
     "output_type": "stream",
     "text": [
      "[ 9, 10,  9, 10,  9, 10,  9, 10,  9, 10,  9, 10,  9, 10,  9, 10,  9, 10,  9,  7]\n",
      "[30, 30, 30, 31]\n",
      "[71, 73, 34, 34, 34, 34, 28, 72, 72, 51, 51, 51, 51, 42, 42, 42, 42, 42, 43, 43]\n",
      "[ 9]\n",
      "[89, 89, 89, 89, 89, 89, 89, 89, 89, 89, 89, 89, 89, 89, 89, 89, 89, 89, 44,  6]\n",
      "[ 1,  1,  1,  1,  1,  1,  1, 10,  7,  7,  7, 60, 60,  4,  4,  4,  4]\n",
      "[ 6,  6,  6,  6, 13, 13]\n",
      "[44]\n",
      "[34, 40, 34, 40, 34, 70, 70, 70, 70, 70, 70, 70, 70, 72, 72, 88, 70, 70, 70, 70]\n",
      "[39, 39, 39, 39, 39, 46]\n"
     ]
    }
   ],
   "source": [
    "for s in S[:10]:\n",
    "    pplist([skill for skill, _, _ in s[:20]])"
   ]
  },
  {
   "cell_type": "code",
   "execution_count": 14,
   "id": "cdc6f49e",
   "metadata": {
    "scrolled": true
   },
   "outputs": [
    {
     "name": "stdout",
     "output_type": "stream",
     "text": [
      "[71, 73, 73, 71, 34, 72, 38, 70, 70, 72, 72, 33,  6,  6,  6,  6, 34, 40, 71, 73]\n",
      "[11, 71, 73, 72, 73, 73, 73, 73, 38, 71, 71, 71, 71, 34, 70, 72, 72, 70, 70, 33]\n",
      "[71, 73, 72, 73, 71, 38, 34, 70, 72, 72, 70, 70, 33, 16, 72, 40, 34, 71, 73, 73]\n",
      "[ 6,  6,  7,  7,  7,  7,  7, 71, 71, 71, 71, 71, 73, 73, 73, 73, 73, 72, 73, 38]\n",
      "[71, 73, 72, 73, 38, 38, 38, 38, 38, 71, 34, 70, 70, 70, 70, 70, 72, 72, 70, 70]\n",
      "[ 0,  0,  0,  0,  0,  2,  2, 47, 47, 47, 47, 47, 42, 38, 38, 38, 38, 38, 28, 28]\n",
      "[33, 71, 73, 72, 73, 38, 38, 71, 34, 70, 72, 72, 70, 70, 16, 72, 38, 38, 38, 72]\n",
      "[71, 71, 71, 71, 71, 73, 72, 73, 38, 71, 34, 34, 34, 34, 71, 71, 70, 72, 72, 70]\n",
      "[ 6, 71, 73, 73, 73, 73, 73, 72, 38, 71, 34, 70, 72, 72, 70, 70, 33, 16, 72, 40]\n",
      "[71, 73, 72, 73, 38, 38, 38, 38, 38, 71, 34, 70, 72, 72, 72, 72, 72, 34, 34, 71]\n"
     ]
    }
   ],
   "source": [
    "for _, s in seq[:10]:\n",
    "    pplist([skill for _, skill, _ in s[:20]])"
   ]
  },
  {
   "cell_type": "code",
   "execution_count": 36,
   "id": "d47fabcd",
   "metadata": {},
   "outputs": [
    {
     "data": {
      "text/plain": [
       "199"
      ]
     },
     "execution_count": 36,
     "metadata": {},
     "output_type": "execute_result"
    }
   ],
   "source": [
    "np.argmin([len(s) for _, s in seq])"
   ]
  },
  {
   "cell_type": "code",
   "execution_count": 60,
   "id": "6b0976d3",
   "metadata": {},
   "outputs": [
    {
     "data": {
      "text/plain": [
       "[(9, 0, -0.1413507006289494),\n",
       " (10, 1, -0.1413507006289494),\n",
       " (9, 0, -0.1413507006289494),\n",
       " (10, 0, -0.1413507006289494),\n",
       " (9, 0, -0.1413507006289494),\n",
       " (10, 0, -0.1413507006289494),\n",
       " (9, 0, -0.1413507006289494),\n",
       " (10, 0, -0.1413507006289494),\n",
       " (9, 0, -0.1413507006289494),\n",
       " (10, 0, -0.1413507006289494)]"
      ]
     },
     "execution_count": 60,
     "metadata": {},
     "output_type": "execute_result"
    }
   ],
   "source": [
    "S[0][:10]"
   ]
  },
  {
   "cell_type": "code",
   "execution_count": 62,
   "id": "1e67ea73",
   "metadata": {},
   "outputs": [],
   "source": [
    "skills = sorted(df['skill'].unique())"
   ]
  },
  {
   "cell_type": "code",
   "execution_count": 61,
   "id": "7a40f369",
   "metadata": {},
   "outputs": [
    {
     "data": {
      "text/plain": [
       "127191"
      ]
     },
     "execution_count": 61,
     "metadata": {},
     "output_type": "execute_result"
    }
   ],
   "source": [
    "sum(len(s) for s in S)"
   ]
  },
  {
   "cell_type": "code",
   "execution_count": 63,
   "id": "7583dec0",
   "metadata": {},
   "outputs": [],
   "source": [
    "with open('gen_skills.csv', 'w') as f:\n",
    "    print('user,skill_id,skill,correct,theta', file=f)\n",
    "    for i, s in enumerate(S):\n",
    "        for skill_id, correct, theta in s[:-1]:\n",
    "            skill = skills[skill_id]\n",
    "            print(f'{i},{skill_id},{skill},{correct},{theta:.6}', file=f)"
   ]
  },
  {
   "cell_type": "markdown",
   "id": "d5f4be8d",
   "metadata": {},
   "source": [
    "# Assistments 2012"
   ]
  },
  {
   "cell_type": "code",
   "execution_count": 18,
   "id": "df062348",
   "metadata": {},
   "outputs": [],
   "source": [
    "df12 = pd.read_csv('data/assistments2012.csv')"
   ]
  },
  {
   "cell_type": "code",
   "execution_count": 19,
   "id": "37f71596",
   "metadata": {},
   "outputs": [
    {
     "data": {
      "text/html": [
       "<div>\n",
       "<style scoped>\n",
       "    .dataframe tbody tr th:only-of-type {\n",
       "        vertical-align: middle;\n",
       "    }\n",
       "\n",
       "    .dataframe tbody tr th {\n",
       "        vertical-align: top;\n",
       "    }\n",
       "\n",
       "    .dataframe thead th {\n",
       "        text-align: right;\n",
       "    }\n",
       "</style>\n",
       "<table border=\"1\" class=\"dataframe\">\n",
       "  <thead>\n",
       "    <tr style=\"text-align: right;\">\n",
       "      <th></th>\n",
       "      <th>user_id</th>\n",
       "      <th>item_id</th>\n",
       "      <th>timestamp</th>\n",
       "      <th>correct</th>\n",
       "      <th>inter_id</th>\n",
       "      <th>skill_id</th>\n",
       "    </tr>\n",
       "  </thead>\n",
       "  <tbody>\n",
       "    <tr>\n",
       "      <th>0</th>\n",
       "      <td>4355</td>\n",
       "      <td>27076</td>\n",
       "      <td>0</td>\n",
       "      <td>0</td>\n",
       "      <td>0</td>\n",
       "      <td>191</td>\n",
       "    </tr>\n",
       "    <tr>\n",
       "      <th>1</th>\n",
       "      <td>3825</td>\n",
       "      <td>23707</td>\n",
       "      <td>85</td>\n",
       "      <td>1</td>\n",
       "      <td>1</td>\n",
       "      <td>64</td>\n",
       "    </tr>\n",
       "    <tr>\n",
       "      <th>2</th>\n",
       "      <td>3825</td>\n",
       "      <td>23680</td>\n",
       "      <td>103</td>\n",
       "      <td>0</td>\n",
       "      <td>2</td>\n",
       "      <td>64</td>\n",
       "    </tr>\n",
       "    <tr>\n",
       "      <th>3</th>\n",
       "      <td>4355</td>\n",
       "      <td>26976</td>\n",
       "      <td>122</td>\n",
       "      <td>1</td>\n",
       "      <td>3</td>\n",
       "      <td>191</td>\n",
       "    </tr>\n",
       "    <tr>\n",
       "      <th>4</th>\n",
       "      <td>3825</td>\n",
       "      <td>23625</td>\n",
       "      <td>190</td>\n",
       "      <td>0</td>\n",
       "      <td>4</td>\n",
       "      <td>64</td>\n",
       "    </tr>\n",
       "  </tbody>\n",
       "</table>\n",
       "</div>"
      ],
      "text/plain": [
       "   user_id  item_id  timestamp  correct  inter_id  skill_id\n",
       "0     4355    27076          0        0         0       191\n",
       "1     3825    23707         85        1         1        64\n",
       "2     3825    23680        103        0         2        64\n",
       "3     4355    26976        122        1         3       191\n",
       "4     3825    23625        190        0         4        64"
      ]
     },
     "execution_count": 19,
     "metadata": {},
     "output_type": "execute_result"
    }
   ],
   "source": [
    "df12.head()"
   ]
  },
  {
   "cell_type": "code",
   "execution_count": 20,
   "id": "0546db97",
   "metadata": {},
   "outputs": [
    {
     "data": {
      "text/plain": [
       "264"
      ]
     },
     "execution_count": 20,
     "metadata": {},
     "output_type": "execute_result"
    }
   ],
   "source": [
    "df12['skill_id'].max()"
   ]
  },
  {
   "cell_type": "code",
   "execution_count": 21,
   "id": "4d5e0887",
   "metadata": {},
   "outputs": [
    {
     "data": {
      "text/plain": [
       "(52976, 24750, 265)"
      ]
     },
     "execution_count": 21,
     "metadata": {},
     "output_type": "execute_result"
    }
   ],
   "source": [
    "df12['item_id'].nunique(), df12['user_id'].nunique(), df12['skill_id'].nunique()"
   ]
  }
 ],
 "metadata": {
  "kernelspec": {
   "display_name": "Python 3 (ipykernel)",
   "language": "python",
   "name": "python3"
  },
  "language_info": {
   "codemirror_mode": {
    "name": "ipython",
    "version": 3
   },
   "file_extension": ".py",
   "mimetype": "text/x-python",
   "name": "python",
   "nbconvert_exporter": "python",
   "pygments_lexer": "ipython3",
   "version": "3.10.2"
  }
 },
 "nbformat": 4,
 "nbformat_minor": 5
}
